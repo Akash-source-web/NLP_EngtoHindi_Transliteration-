{
  "cells": [
    {
      "cell_type": "markdown",
      "metadata": {
        "id": "BfMtgu_MB3Tb"
      },
      "source": [
        "### English to Hindi Transliteration"
      ]
    },
    {
      "cell_type": "code",
      "execution_count": 1,
      "metadata": {
        "scrolled": true,
        "id": "zaoMeZAnB3Tk",
        "colab": {
          "base_uri": "https://localhost:8080/"
        },
        "outputId": "77645fdf-029c-47f9-83b5-dc203a29a83c"
      },
      "outputs": [
        {
          "output_type": "stream",
          "name": "stdout",
          "text": [
            "env: CUDA_VISIBLE_DEVICES=0\n"
          ]
        }
      ],
      "source": [
        "%env CUDA_VISIBLE_DEVICES=0"
      ]
    },
    {
      "cell_type": "code",
      "source": [
        "from google.colab import drive\n",
        "drive.mount('/content/drive')"
      ],
      "metadata": {
        "colab": {
          "base_uri": "https://localhost:8080/"
        },
        "id": "uKPtNIjQCmh2",
        "outputId": "97c0ef40-5c0a-4788-80c8-6d1da1c7b0df"
      },
      "execution_count": 2,
      "outputs": [
        {
          "output_type": "stream",
          "name": "stdout",
          "text": [
            "Drive already mounted at /content/drive; to attempt to forcibly remount, call drive.mount(\"/content/drive\", force_remount=True).\n"
          ]
        }
      ]
    },
    {
      "cell_type": "code",
      "source": [
        "!pip install tensorflow==1.15\n"
      ],
      "metadata": {
        "colab": {
          "base_uri": "https://localhost:8080/",
          "height": 1000
        },
        "id": "xCmSJXTCD5ck",
        "outputId": "637ac18e-c499-4010-d958-f63a25d819e4"
      },
      "execution_count": 14,
      "outputs": [
        {
          "output_type": "stream",
          "name": "stdout",
          "text": [
            "Looking in indexes: https://pypi.org/simple, https://us-python.pkg.dev/colab-wheels/public/simple/\n",
            "Collecting tensorflow==1.15\n",
            "  Downloading tensorflow-1.15.0-cp37-cp37m-manylinux2010_x86_64.whl (412.3 MB)\n",
            "\u001b[K     |████████████████████████████████| 412.3 MB 26 kB/s \n",
            "\u001b[?25hCollecting gast==0.2.2\n",
            "  Downloading gast-0.2.2.tar.gz (10 kB)\n",
            "Requirement already satisfied: protobuf>=3.6.1 in /usr/local/lib/python3.7/dist-packages (from tensorflow==1.15) (3.17.3)\n",
            "Collecting tensorflow-estimator==1.15.1\n",
            "  Downloading tensorflow_estimator-1.15.1-py2.py3-none-any.whl (503 kB)\n",
            "\u001b[K     |████████████████████████████████| 503 kB 63.4 MB/s \n",
            "\u001b[?25hRequirement already satisfied: astor>=0.6.0 in /usr/local/lib/python3.7/dist-packages (from tensorflow==1.15) (0.8.1)\n",
            "Requirement already satisfied: keras-preprocessing>=1.0.5 in /usr/local/lib/python3.7/dist-packages (from tensorflow==1.15) (1.1.2)\n",
            "Requirement already satisfied: absl-py>=0.7.0 in /usr/local/lib/python3.7/dist-packages (from tensorflow==1.15) (1.1.0)\n",
            "Requirement already satisfied: numpy<2.0,>=1.16.0 in /usr/local/lib/python3.7/dist-packages (from tensorflow==1.15) (1.21.6)\n",
            "Requirement already satisfied: wrapt>=1.11.1 in /usr/local/lib/python3.7/dist-packages (from tensorflow==1.15) (1.14.1)\n",
            "Requirement already satisfied: opt-einsum>=2.3.2 in /usr/local/lib/python3.7/dist-packages (from tensorflow==1.15) (3.3.0)\n",
            "Requirement already satisfied: six>=1.10.0 in /usr/local/lib/python3.7/dist-packages (from tensorflow==1.15) (1.15.0)\n",
            "Requirement already satisfied: wheel>=0.26 in /usr/local/lib/python3.7/dist-packages (from tensorflow==1.15) (0.37.1)\n",
            "Requirement already satisfied: termcolor>=1.1.0 in /usr/local/lib/python3.7/dist-packages (from tensorflow==1.15) (1.1.0)\n",
            "Collecting tensorboard<1.16.0,>=1.15.0\n",
            "  Downloading tensorboard-1.15.0-py3-none-any.whl (3.8 MB)\n",
            "\u001b[K     |████████████████████████████████| 3.8 MB 51.9 MB/s \n",
            "\u001b[?25hCollecting keras-applications>=1.0.8\n",
            "  Downloading Keras_Applications-1.0.8-py3-none-any.whl (50 kB)\n",
            "\u001b[K     |████████████████████████████████| 50 kB 8.7 MB/s \n",
            "\u001b[?25hRequirement already satisfied: grpcio>=1.8.6 in /usr/local/lib/python3.7/dist-packages (from tensorflow==1.15) (1.46.3)\n",
            "Requirement already satisfied: google-pasta>=0.1.6 in /usr/local/lib/python3.7/dist-packages (from tensorflow==1.15) (0.2.0)\n",
            "Requirement already satisfied: h5py in /usr/local/lib/python3.7/dist-packages (from keras-applications>=1.0.8->tensorflow==1.15) (3.1.0)\n",
            "Requirement already satisfied: werkzeug>=0.11.15 in /usr/local/lib/python3.7/dist-packages (from tensorboard<1.16.0,>=1.15.0->tensorflow==1.15) (1.0.1)\n",
            "Requirement already satisfied: markdown>=2.6.8 in /usr/local/lib/python3.7/dist-packages (from tensorboard<1.16.0,>=1.15.0->tensorflow==1.15) (3.3.7)\n",
            "Requirement already satisfied: setuptools>=41.0.0 in /usr/local/lib/python3.7/dist-packages (from tensorboard<1.16.0,>=1.15.0->tensorflow==1.15) (57.4.0)\n",
            "Requirement already satisfied: importlib-metadata>=4.4 in /usr/local/lib/python3.7/dist-packages (from markdown>=2.6.8->tensorboard<1.16.0,>=1.15.0->tensorflow==1.15) (4.11.4)\n",
            "Requirement already satisfied: typing-extensions>=3.6.4 in /usr/local/lib/python3.7/dist-packages (from importlib-metadata>=4.4->markdown>=2.6.8->tensorboard<1.16.0,>=1.15.0->tensorflow==1.15) (4.1.1)\n",
            "Requirement already satisfied: zipp>=0.5 in /usr/local/lib/python3.7/dist-packages (from importlib-metadata>=4.4->markdown>=2.6.8->tensorboard<1.16.0,>=1.15.0->tensorflow==1.15) (3.8.0)\n",
            "Requirement already satisfied: cached-property in /usr/local/lib/python3.7/dist-packages (from h5py->keras-applications>=1.0.8->tensorflow==1.15) (1.5.2)\n",
            "Building wheels for collected packages: gast\n",
            "  Building wheel for gast (setup.py) ... \u001b[?25l\u001b[?25hdone\n",
            "  Created wheel for gast: filename=gast-0.2.2-py3-none-any.whl size=7554 sha256=cf11eb8c78ade876c1cd8246d0fd136f6178cdb966f9def8c9a4fd46b9c9c6a0\n",
            "  Stored in directory: /root/.cache/pip/wheels/21/7f/02/420f32a803f7d0967b48dd823da3f558c5166991bfd204eef3\n",
            "Successfully built gast\n",
            "Installing collected packages: tensorflow-estimator, tensorboard, keras-applications, gast, tensorflow\n",
            "  Attempting uninstall: tensorflow-estimator\n",
            "    Found existing installation: tensorflow-estimator 2.8.0\n",
            "    Uninstalling tensorflow-estimator-2.8.0:\n",
            "      Successfully uninstalled tensorflow-estimator-2.8.0\n",
            "  Attempting uninstall: tensorboard\n",
            "    Found existing installation: tensorboard 2.8.0\n",
            "    Uninstalling tensorboard-2.8.0:\n",
            "      Successfully uninstalled tensorboard-2.8.0\n",
            "  Attempting uninstall: gast\n",
            "    Found existing installation: gast 0.5.3\n",
            "    Uninstalling gast-0.5.3:\n",
            "      Successfully uninstalled gast-0.5.3\n",
            "  Attempting uninstall: tensorflow\n",
            "    Found existing installation: tensorflow 2.8.2+zzzcolab20220527125636\n",
            "    Uninstalling tensorflow-2.8.2+zzzcolab20220527125636:\n",
            "      Successfully uninstalled tensorflow-2.8.2+zzzcolab20220527125636\n",
            "\u001b[31mERROR: pip's dependency resolver does not currently take into account all the packages that are installed. This behaviour is the source of the following dependency conflicts.\n",
            "tensorflow-probability 0.16.0 requires gast>=0.3.2, but you have gast 0.2.2 which is incompatible.\n",
            "kapre 0.3.7 requires tensorflow>=2.0.0, but you have tensorflow 1.15.0 which is incompatible.\u001b[0m\n",
            "Successfully installed gast-0.2.2 keras-applications-1.0.8 tensorboard-1.15.0 tensorflow-1.15.0 tensorflow-estimator-1.15.1\n"
          ]
        },
        {
          "output_type": "display_data",
          "data": {
            "application/vnd.colab-display-data+json": {
              "pip_warning": {
                "packages": [
                  "gast",
                  "tensorboard",
                  "tensorflow"
                ]
              }
            }
          },
          "metadata": {}
        }
      ]
    },
    {
      "cell_type": "markdown",
      "source": [
        "### XML file Data Extractor"
      ],
      "metadata": {
        "id": "jVasRaURlx4W"
      }
    },
    {
      "cell_type": "code",
      "source": [
        "import pandas as pd\n",
        "import xml.etree.ElementTree as et"
      ],
      "metadata": {
        "id": "IuGxxi0Jlv_5"
      },
      "execution_count": 3,
      "outputs": []
    },
    {
      "cell_type": "code",
      "source": [
        "etree = et.parse('/content/drive/MyDrive/XML/translationTrain.xml')\n",
        "eroot = etree.getroot()\n",
        "eroot"
      ],
      "metadata": {
        "colab": {
          "base_uri": "https://localhost:8080/"
        },
        "id": "3Db7cSvFl9hq",
        "outputId": "fe5fb8cf-776e-414d-c7a3-f8f10c2a98f9"
      },
      "execution_count": 4,
      "outputs": [
        {
          "output_type": "execute_result",
          "data": {
            "text/plain": [
              "<Element 'TransliterationCorpus' at 0x7f2a7e300470>"
            ]
          },
          "metadata": {},
          "execution_count": 4
        }
      ]
    },
    {
      "cell_type": "code",
      "source": [
        "eroot.attrib"
      ],
      "metadata": {
        "colab": {
          "base_uri": "https://localhost:8080/"
        },
        "id": "73DM4IOTl9lV",
        "outputId": "843669a8-4e07-4819-c159-8c1d8dc7bf3c"
      },
      "execution_count": 5,
      "outputs": [
        {
          "output_type": "execute_result",
          "data": {
            "text/plain": [
              "{'CorpusFormat': 'UTF-8',\n",
              " 'CorpusID': 'M-EnHi',\n",
              " 'CorpusSize': '12937',\n",
              " 'CorpusType': 'Training',\n",
              " 'NameSource': 'Mixed',\n",
              " 'SourceLang': 'English',\n",
              " 'TargetLang': 'Hindi'}"
            ]
          },
          "metadata": {},
          "execution_count": 5
        }
      ]
    },
    {
      "cell_type": "code",
      "source": [
        "def parse_xml(root):\n",
        "    attr = root.attrib\n",
        "    for root_element in eroot.findall('Name'):\n",
        "        xml_data = attr.copy()\n",
        "        xml_data.update(root_element.attrib)\n",
        "        xml_data['EnglishWord'] = root_element.find('SourceName').text\n",
        "        xml_data['HindiWord'] = root_element.find('TargetName').text\n",
        "        yield xml_data\n",
        "        "
      ],
      "metadata": {
        "id": "qmG7c7mdl9pg"
      },
      "execution_count": 6,
      "outputs": []
    },
    {
      "cell_type": "code",
      "source": [
        "data = parse_xml(eroot)"
      ],
      "metadata": {
        "id": "upUL3AyAl9tD"
      },
      "execution_count": 7,
      "outputs": []
    },
    {
      "cell_type": "code",
      "source": [
        "data = list(data)"
      ],
      "metadata": {
        "id": "XmV4mmcBl9wl"
      },
      "execution_count": 8,
      "outputs": []
    },
    {
      "cell_type": "code",
      "source": [
        "df=pd.DataFrame(data)\n",
        "df"
      ],
      "metadata": {
        "colab": {
          "base_uri": "https://localhost:8080/",
          "height": 468
        },
        "id": "z4f9SPHtmaKI",
        "outputId": "add6de43-0637-464b-b7a8-cd3565ade74a"
      },
      "execution_count": 9,
      "outputs": [
        {
          "output_type": "execute_result",
          "data": {
            "text/plain": [
              "      CorpusFormat CorpusID CorpusSize CorpusType NameSource SourceLang  \\\n",
              "0            UTF-8   M-EnHi      12937   Training      Mixed    English   \n",
              "1            UTF-8   M-EnHi      12937   Training      Mixed    English   \n",
              "2            UTF-8   M-EnHi      12937   Training      Mixed    English   \n",
              "3            UTF-8   M-EnHi      12937   Training      Mixed    English   \n",
              "4            UTF-8   M-EnHi      12937   Training      Mixed    English   \n",
              "...            ...      ...        ...        ...        ...        ...   \n",
              "12932        UTF-8   M-EnHi      12937   Training      Mixed    English   \n",
              "12933        UTF-8   M-EnHi      12937   Training      Mixed    English   \n",
              "12934        UTF-8   M-EnHi      12937   Training      Mixed    English   \n",
              "12935        UTF-8   M-EnHi      12937   Training      Mixed    English   \n",
              "12936        UTF-8   M-EnHi      12937   Training      Mixed    English   \n",
              "\n",
              "      TargetLang     ID                EnglishWord  \\\n",
              "0          Hindi      1                     aabhaa   \n",
              "1          Hindi      2                    aabheer   \n",
              "2          Hindi      3                  aabhijaat   \n",
              "3          Hindi      4                      aabid   \n",
              "4          Hindi      5                    aabshar   \n",
              "...          ...    ...                        ...   \n",
              "12932      Hindi  12933        zulm ko jala doonga   \n",
              "12933      Hindi  12934                  zunheboto   \n",
              "12934      Hindi  12935  zurich financial services   \n",
              "12935      Hindi  12936                      zurna   \n",
              "12936      Hindi  12937                 zwyndrecht   \n",
              "\n",
              "                            HindiWord  \n",
              "0                                 आभा  \n",
              "1                                आभीर  \n",
              "2                              आभिजात  \n",
              "3                                आबिद  \n",
              "4                                आबशर  \n",
              "...                               ...  \n",
              "12932             ज़ुल्म को जला दूँगा  \n",
              "12933                      जुन्हेबोटो  \n",
              "12934  ज़्यूरिक फ़ाइनेंशियल सर्विसेज़  \n",
              "12935                          ज़ुर्ना  \n",
              "12936                     ज़ॉएन्ड्रेच  \n",
              "\n",
              "[12937 rows x 10 columns]"
            ],
            "text/html": [
              "\n",
              "  <div id=\"df-1a7d666f-63c8-4d41-a97c-4ebe119263ac\">\n",
              "    <div class=\"colab-df-container\">\n",
              "      <div>\n",
              "<style scoped>\n",
              "    .dataframe tbody tr th:only-of-type {\n",
              "        vertical-align: middle;\n",
              "    }\n",
              "\n",
              "    .dataframe tbody tr th {\n",
              "        vertical-align: top;\n",
              "    }\n",
              "\n",
              "    .dataframe thead th {\n",
              "        text-align: right;\n",
              "    }\n",
              "</style>\n",
              "<table border=\"1\" class=\"dataframe\">\n",
              "  <thead>\n",
              "    <tr style=\"text-align: right;\">\n",
              "      <th></th>\n",
              "      <th>CorpusFormat</th>\n",
              "      <th>CorpusID</th>\n",
              "      <th>CorpusSize</th>\n",
              "      <th>CorpusType</th>\n",
              "      <th>NameSource</th>\n",
              "      <th>SourceLang</th>\n",
              "      <th>TargetLang</th>\n",
              "      <th>ID</th>\n",
              "      <th>EnglishWord</th>\n",
              "      <th>HindiWord</th>\n",
              "    </tr>\n",
              "  </thead>\n",
              "  <tbody>\n",
              "    <tr>\n",
              "      <th>0</th>\n",
              "      <td>UTF-8</td>\n",
              "      <td>M-EnHi</td>\n",
              "      <td>12937</td>\n",
              "      <td>Training</td>\n",
              "      <td>Mixed</td>\n",
              "      <td>English</td>\n",
              "      <td>Hindi</td>\n",
              "      <td>1</td>\n",
              "      <td>aabhaa</td>\n",
              "      <td>आभा</td>\n",
              "    </tr>\n",
              "    <tr>\n",
              "      <th>1</th>\n",
              "      <td>UTF-8</td>\n",
              "      <td>M-EnHi</td>\n",
              "      <td>12937</td>\n",
              "      <td>Training</td>\n",
              "      <td>Mixed</td>\n",
              "      <td>English</td>\n",
              "      <td>Hindi</td>\n",
              "      <td>2</td>\n",
              "      <td>aabheer</td>\n",
              "      <td>आभीर</td>\n",
              "    </tr>\n",
              "    <tr>\n",
              "      <th>2</th>\n",
              "      <td>UTF-8</td>\n",
              "      <td>M-EnHi</td>\n",
              "      <td>12937</td>\n",
              "      <td>Training</td>\n",
              "      <td>Mixed</td>\n",
              "      <td>English</td>\n",
              "      <td>Hindi</td>\n",
              "      <td>3</td>\n",
              "      <td>aabhijaat</td>\n",
              "      <td>आभिजात</td>\n",
              "    </tr>\n",
              "    <tr>\n",
              "      <th>3</th>\n",
              "      <td>UTF-8</td>\n",
              "      <td>M-EnHi</td>\n",
              "      <td>12937</td>\n",
              "      <td>Training</td>\n",
              "      <td>Mixed</td>\n",
              "      <td>English</td>\n",
              "      <td>Hindi</td>\n",
              "      <td>4</td>\n",
              "      <td>aabid</td>\n",
              "      <td>आबिद</td>\n",
              "    </tr>\n",
              "    <tr>\n",
              "      <th>4</th>\n",
              "      <td>UTF-8</td>\n",
              "      <td>M-EnHi</td>\n",
              "      <td>12937</td>\n",
              "      <td>Training</td>\n",
              "      <td>Mixed</td>\n",
              "      <td>English</td>\n",
              "      <td>Hindi</td>\n",
              "      <td>5</td>\n",
              "      <td>aabshar</td>\n",
              "      <td>आबशर</td>\n",
              "    </tr>\n",
              "    <tr>\n",
              "      <th>...</th>\n",
              "      <td>...</td>\n",
              "      <td>...</td>\n",
              "      <td>...</td>\n",
              "      <td>...</td>\n",
              "      <td>...</td>\n",
              "      <td>...</td>\n",
              "      <td>...</td>\n",
              "      <td>...</td>\n",
              "      <td>...</td>\n",
              "      <td>...</td>\n",
              "    </tr>\n",
              "    <tr>\n",
              "      <th>12932</th>\n",
              "      <td>UTF-8</td>\n",
              "      <td>M-EnHi</td>\n",
              "      <td>12937</td>\n",
              "      <td>Training</td>\n",
              "      <td>Mixed</td>\n",
              "      <td>English</td>\n",
              "      <td>Hindi</td>\n",
              "      <td>12933</td>\n",
              "      <td>zulm ko jala doonga</td>\n",
              "      <td>ज़ुल्म को जला दूँगा</td>\n",
              "    </tr>\n",
              "    <tr>\n",
              "      <th>12933</th>\n",
              "      <td>UTF-8</td>\n",
              "      <td>M-EnHi</td>\n",
              "      <td>12937</td>\n",
              "      <td>Training</td>\n",
              "      <td>Mixed</td>\n",
              "      <td>English</td>\n",
              "      <td>Hindi</td>\n",
              "      <td>12934</td>\n",
              "      <td>zunheboto</td>\n",
              "      <td>जुन्हेबोटो</td>\n",
              "    </tr>\n",
              "    <tr>\n",
              "      <th>12934</th>\n",
              "      <td>UTF-8</td>\n",
              "      <td>M-EnHi</td>\n",
              "      <td>12937</td>\n",
              "      <td>Training</td>\n",
              "      <td>Mixed</td>\n",
              "      <td>English</td>\n",
              "      <td>Hindi</td>\n",
              "      <td>12935</td>\n",
              "      <td>zurich financial services</td>\n",
              "      <td>ज़्यूरिक फ़ाइनेंशियल सर्विसेज़</td>\n",
              "    </tr>\n",
              "    <tr>\n",
              "      <th>12935</th>\n",
              "      <td>UTF-8</td>\n",
              "      <td>M-EnHi</td>\n",
              "      <td>12937</td>\n",
              "      <td>Training</td>\n",
              "      <td>Mixed</td>\n",
              "      <td>English</td>\n",
              "      <td>Hindi</td>\n",
              "      <td>12936</td>\n",
              "      <td>zurna</td>\n",
              "      <td>ज़ुर्ना</td>\n",
              "    </tr>\n",
              "    <tr>\n",
              "      <th>12936</th>\n",
              "      <td>UTF-8</td>\n",
              "      <td>M-EnHi</td>\n",
              "      <td>12937</td>\n",
              "      <td>Training</td>\n",
              "      <td>Mixed</td>\n",
              "      <td>English</td>\n",
              "      <td>Hindi</td>\n",
              "      <td>12937</td>\n",
              "      <td>zwyndrecht</td>\n",
              "      <td>ज़ॉएन्ड्रेच</td>\n",
              "    </tr>\n",
              "  </tbody>\n",
              "</table>\n",
              "<p>12937 rows × 10 columns</p>\n",
              "</div>\n",
              "      <button class=\"colab-df-convert\" onclick=\"convertToInteractive('df-1a7d666f-63c8-4d41-a97c-4ebe119263ac')\"\n",
              "              title=\"Convert this dataframe to an interactive table.\"\n",
              "              style=\"display:none;\">\n",
              "        \n",
              "  <svg xmlns=\"http://www.w3.org/2000/svg\" height=\"24px\"viewBox=\"0 0 24 24\"\n",
              "       width=\"24px\">\n",
              "    <path d=\"M0 0h24v24H0V0z\" fill=\"none\"/>\n",
              "    <path d=\"M18.56 5.44l.94 2.06.94-2.06 2.06-.94-2.06-.94-.94-2.06-.94 2.06-2.06.94zm-11 1L8.5 8.5l.94-2.06 2.06-.94-2.06-.94L8.5 2.5l-.94 2.06-2.06.94zm10 10l.94 2.06.94-2.06 2.06-.94-2.06-.94-.94-2.06-.94 2.06-2.06.94z\"/><path d=\"M17.41 7.96l-1.37-1.37c-.4-.4-.92-.59-1.43-.59-.52 0-1.04.2-1.43.59L10.3 9.45l-7.72 7.72c-.78.78-.78 2.05 0 2.83L4 21.41c.39.39.9.59 1.41.59.51 0 1.02-.2 1.41-.59l7.78-7.78 2.81-2.81c.8-.78.8-2.07 0-2.86zM5.41 20L4 18.59l7.72-7.72 1.47 1.35L5.41 20z\"/>\n",
              "  </svg>\n",
              "      </button>\n",
              "      \n",
              "  <style>\n",
              "    .colab-df-container {\n",
              "      display:flex;\n",
              "      flex-wrap:wrap;\n",
              "      gap: 12px;\n",
              "    }\n",
              "\n",
              "    .colab-df-convert {\n",
              "      background-color: #E8F0FE;\n",
              "      border: none;\n",
              "      border-radius: 50%;\n",
              "      cursor: pointer;\n",
              "      display: none;\n",
              "      fill: #1967D2;\n",
              "      height: 32px;\n",
              "      padding: 0 0 0 0;\n",
              "      width: 32px;\n",
              "    }\n",
              "\n",
              "    .colab-df-convert:hover {\n",
              "      background-color: #E2EBFA;\n",
              "      box-shadow: 0px 1px 2px rgba(60, 64, 67, 0.3), 0px 1px 3px 1px rgba(60, 64, 67, 0.15);\n",
              "      fill: #174EA6;\n",
              "    }\n",
              "\n",
              "    [theme=dark] .colab-df-convert {\n",
              "      background-color: #3B4455;\n",
              "      fill: #D2E3FC;\n",
              "    }\n",
              "\n",
              "    [theme=dark] .colab-df-convert:hover {\n",
              "      background-color: #434B5C;\n",
              "      box-shadow: 0px 1px 3px 1px rgba(0, 0, 0, 0.15);\n",
              "      filter: drop-shadow(0px 1px 2px rgba(0, 0, 0, 0.3));\n",
              "      fill: #FFFFFF;\n",
              "    }\n",
              "  </style>\n",
              "\n",
              "      <script>\n",
              "        const buttonEl =\n",
              "          document.querySelector('#df-1a7d666f-63c8-4d41-a97c-4ebe119263ac button.colab-df-convert');\n",
              "        buttonEl.style.display =\n",
              "          google.colab.kernel.accessAllowed ? 'block' : 'none';\n",
              "\n",
              "        async function convertToInteractive(key) {\n",
              "          const element = document.querySelector('#df-1a7d666f-63c8-4d41-a97c-4ebe119263ac');\n",
              "          const dataTable =\n",
              "            await google.colab.kernel.invokeFunction('convertToInteractive',\n",
              "                                                     [key], {});\n",
              "          if (!dataTable) return;\n",
              "\n",
              "          const docLinkHtml = 'Like what you see? Visit the ' +\n",
              "            '<a target=\"_blank\" href=https://colab.research.google.com/notebooks/data_table.ipynb>data table notebook</a>'\n",
              "            + ' to learn more about interactive tables.';\n",
              "          element.innerHTML = '';\n",
              "          dataTable['output_type'] = 'display_data';\n",
              "          await google.colab.output.renderOutput(dataTable, element);\n",
              "          const docLink = document.createElement('div');\n",
              "          docLink.innerHTML = docLinkHtml;\n",
              "          element.appendChild(docLink);\n",
              "        }\n",
              "      </script>\n",
              "    </div>\n",
              "  </div>\n",
              "  "
            ]
          },
          "metadata": {},
          "execution_count": 9
        }
      ]
    },
    {
      "cell_type": "code",
      "source": [
        "df.drop(['CorpusFormat', 'CorpusID','CorpusSize','CorpusType','NameSource','SourceLang','TargetLang','ID'], axis=1, inplace=True)\n"
      ],
      "metadata": {
        "id": "xHnIsE9xmaNE"
      },
      "execution_count": 10,
      "outputs": []
    },
    {
      "cell_type": "code",
      "source": [
        "df.head(50)"
      ],
      "metadata": {
        "colab": {
          "base_uri": "https://localhost:8080/",
          "height": 1000
        },
        "id": "ZNDynNBJmaRL",
        "outputId": "f6fb83a6-e54d-4613-b5dd-18fda0c674d5"
      },
      "execution_count": 11,
      "outputs": [
        {
          "output_type": "execute_result",
          "data": {
            "text/plain": [
              "              EnglishWord         HindiWord\n",
              "0                  aabhaa               आभा\n",
              "1                 aabheer              आभीर\n",
              "2               aabhijaat            आभिजात\n",
              "3                   aabid              आबिद\n",
              "4                 aabshar              आबशर\n",
              "5         aachaaryanandan        आचार्यनंदन\n",
              "6       aachaaryanandanaa       आचार्यनंदना\n",
              "7            aachaaryasut         आचार्यसुत\n",
              "8           aachaaryasuta        आचार्यसुता\n",
              "9          aachaaryasutaa        आचार्यसुता\n",
              "10         aachaarynandan        आचार्यनंदन\n",
              "11           aachaarysuta        आचार्यसुता\n",
              "12          aachaarysutaa        आचार्यसुता\n",
              "13               aacharya            आचार्य\n",
              "14        aacharyanandana       आचार्यनंदना\n",
              "15       aacharyanandanaa       आचार्यनंदना\n",
              "16           aacharyasuta        आचार्यसुता\n",
              "17          aacharyasutaa        आचार्यसुता\n",
              "18         aacharynandana       आचार्यनंदना\n",
              "19             aacharysut         आचार्यसुत\n",
              "20              aachrekar            आचरेकर\n",
              "21                aachwal              आचवल\n",
              "22                   aada               आडा\n",
              "23                aadarsh             आदर्श\n",
              "24               aadarsha             आदर्श\n",
              "25       aadat se majboor      आदत से मजबूर\n",
              "26                 aadesh              आदेश\n",
              "27   aadha din aadhi raat   आधा दिन आधी रात\n",
              "28             aadhi raat           आधी रात\n",
              "29              aadhi yug           आधी युग\n",
              "30               aadhunik            आधुनिक\n",
              "31               aadikavi            आदिकवि\n",
              "32          aadinaaraayan         आदिनारायण\n",
              "33           aadinaraayan         आदिनारायण\n",
              "34               aadinath            आदिनाथ\n",
              "35              aadishvar           आदिश्वर\n",
              "36                aaditya            आदित्य\n",
              "37          aadityakeshav        आदित्यकेशव\n",
              "38          aadityanandan        आदित्यनंदन\n",
              "39         aadityavardhan       आदित्यवर्धन\n",
              "40           aaditykeshav        आदित्यकेशव\n",
              "41                  aadmi              आदमी\n",
              "42      aadmi khilona hai    आदमी खिलौना है\n",
              "43         aadmi sadak ka       आदमी सड़क का\n",
              "44                 aafiya             आफिया\n",
              "45                aafreen             आफरीन\n",
              "46                    aag                आग\n",
              "47  aag aandhi aur toofan  आग आँधी और तूफान\n",
              "48           aag aur daag         आग और दाग\n",
              "49            aag ka gola        आग का गोला"
            ],
            "text/html": [
              "\n",
              "  <div id=\"df-b87fb65c-c436-4a10-9e96-e7ca246b5859\">\n",
              "    <div class=\"colab-df-container\">\n",
              "      <div>\n",
              "<style scoped>\n",
              "    .dataframe tbody tr th:only-of-type {\n",
              "        vertical-align: middle;\n",
              "    }\n",
              "\n",
              "    .dataframe tbody tr th {\n",
              "        vertical-align: top;\n",
              "    }\n",
              "\n",
              "    .dataframe thead th {\n",
              "        text-align: right;\n",
              "    }\n",
              "</style>\n",
              "<table border=\"1\" class=\"dataframe\">\n",
              "  <thead>\n",
              "    <tr style=\"text-align: right;\">\n",
              "      <th></th>\n",
              "      <th>EnglishWord</th>\n",
              "      <th>HindiWord</th>\n",
              "    </tr>\n",
              "  </thead>\n",
              "  <tbody>\n",
              "    <tr>\n",
              "      <th>0</th>\n",
              "      <td>aabhaa</td>\n",
              "      <td>आभा</td>\n",
              "    </tr>\n",
              "    <tr>\n",
              "      <th>1</th>\n",
              "      <td>aabheer</td>\n",
              "      <td>आभीर</td>\n",
              "    </tr>\n",
              "    <tr>\n",
              "      <th>2</th>\n",
              "      <td>aabhijaat</td>\n",
              "      <td>आभिजात</td>\n",
              "    </tr>\n",
              "    <tr>\n",
              "      <th>3</th>\n",
              "      <td>aabid</td>\n",
              "      <td>आबिद</td>\n",
              "    </tr>\n",
              "    <tr>\n",
              "      <th>4</th>\n",
              "      <td>aabshar</td>\n",
              "      <td>आबशर</td>\n",
              "    </tr>\n",
              "    <tr>\n",
              "      <th>5</th>\n",
              "      <td>aachaaryanandan</td>\n",
              "      <td>आचार्यनंदन</td>\n",
              "    </tr>\n",
              "    <tr>\n",
              "      <th>6</th>\n",
              "      <td>aachaaryanandanaa</td>\n",
              "      <td>आचार्यनंदना</td>\n",
              "    </tr>\n",
              "    <tr>\n",
              "      <th>7</th>\n",
              "      <td>aachaaryasut</td>\n",
              "      <td>आचार्यसुत</td>\n",
              "    </tr>\n",
              "    <tr>\n",
              "      <th>8</th>\n",
              "      <td>aachaaryasuta</td>\n",
              "      <td>आचार्यसुता</td>\n",
              "    </tr>\n",
              "    <tr>\n",
              "      <th>9</th>\n",
              "      <td>aachaaryasutaa</td>\n",
              "      <td>आचार्यसुता</td>\n",
              "    </tr>\n",
              "    <tr>\n",
              "      <th>10</th>\n",
              "      <td>aachaarynandan</td>\n",
              "      <td>आचार्यनंदन</td>\n",
              "    </tr>\n",
              "    <tr>\n",
              "      <th>11</th>\n",
              "      <td>aachaarysuta</td>\n",
              "      <td>आचार्यसुता</td>\n",
              "    </tr>\n",
              "    <tr>\n",
              "      <th>12</th>\n",
              "      <td>aachaarysutaa</td>\n",
              "      <td>आचार्यसुता</td>\n",
              "    </tr>\n",
              "    <tr>\n",
              "      <th>13</th>\n",
              "      <td>aacharya</td>\n",
              "      <td>आचार्य</td>\n",
              "    </tr>\n",
              "    <tr>\n",
              "      <th>14</th>\n",
              "      <td>aacharyanandana</td>\n",
              "      <td>आचार्यनंदना</td>\n",
              "    </tr>\n",
              "    <tr>\n",
              "      <th>15</th>\n",
              "      <td>aacharyanandanaa</td>\n",
              "      <td>आचार्यनंदना</td>\n",
              "    </tr>\n",
              "    <tr>\n",
              "      <th>16</th>\n",
              "      <td>aacharyasuta</td>\n",
              "      <td>आचार्यसुता</td>\n",
              "    </tr>\n",
              "    <tr>\n",
              "      <th>17</th>\n",
              "      <td>aacharyasutaa</td>\n",
              "      <td>आचार्यसुता</td>\n",
              "    </tr>\n",
              "    <tr>\n",
              "      <th>18</th>\n",
              "      <td>aacharynandana</td>\n",
              "      <td>आचार्यनंदना</td>\n",
              "    </tr>\n",
              "    <tr>\n",
              "      <th>19</th>\n",
              "      <td>aacharysut</td>\n",
              "      <td>आचार्यसुत</td>\n",
              "    </tr>\n",
              "    <tr>\n",
              "      <th>20</th>\n",
              "      <td>aachrekar</td>\n",
              "      <td>आचरेकर</td>\n",
              "    </tr>\n",
              "    <tr>\n",
              "      <th>21</th>\n",
              "      <td>aachwal</td>\n",
              "      <td>आचवल</td>\n",
              "    </tr>\n",
              "    <tr>\n",
              "      <th>22</th>\n",
              "      <td>aada</td>\n",
              "      <td>आडा</td>\n",
              "    </tr>\n",
              "    <tr>\n",
              "      <th>23</th>\n",
              "      <td>aadarsh</td>\n",
              "      <td>आदर्श</td>\n",
              "    </tr>\n",
              "    <tr>\n",
              "      <th>24</th>\n",
              "      <td>aadarsha</td>\n",
              "      <td>आदर्श</td>\n",
              "    </tr>\n",
              "    <tr>\n",
              "      <th>25</th>\n",
              "      <td>aadat se majboor</td>\n",
              "      <td>आदत से मजबूर</td>\n",
              "    </tr>\n",
              "    <tr>\n",
              "      <th>26</th>\n",
              "      <td>aadesh</td>\n",
              "      <td>आदेश</td>\n",
              "    </tr>\n",
              "    <tr>\n",
              "      <th>27</th>\n",
              "      <td>aadha din aadhi raat</td>\n",
              "      <td>आधा दिन आधी रात</td>\n",
              "    </tr>\n",
              "    <tr>\n",
              "      <th>28</th>\n",
              "      <td>aadhi raat</td>\n",
              "      <td>आधी रात</td>\n",
              "    </tr>\n",
              "    <tr>\n",
              "      <th>29</th>\n",
              "      <td>aadhi yug</td>\n",
              "      <td>आधी युग</td>\n",
              "    </tr>\n",
              "    <tr>\n",
              "      <th>30</th>\n",
              "      <td>aadhunik</td>\n",
              "      <td>आधुनिक</td>\n",
              "    </tr>\n",
              "    <tr>\n",
              "      <th>31</th>\n",
              "      <td>aadikavi</td>\n",
              "      <td>आदिकवि</td>\n",
              "    </tr>\n",
              "    <tr>\n",
              "      <th>32</th>\n",
              "      <td>aadinaaraayan</td>\n",
              "      <td>आदिनारायण</td>\n",
              "    </tr>\n",
              "    <tr>\n",
              "      <th>33</th>\n",
              "      <td>aadinaraayan</td>\n",
              "      <td>आदिनारायण</td>\n",
              "    </tr>\n",
              "    <tr>\n",
              "      <th>34</th>\n",
              "      <td>aadinath</td>\n",
              "      <td>आदिनाथ</td>\n",
              "    </tr>\n",
              "    <tr>\n",
              "      <th>35</th>\n",
              "      <td>aadishvar</td>\n",
              "      <td>आदिश्वर</td>\n",
              "    </tr>\n",
              "    <tr>\n",
              "      <th>36</th>\n",
              "      <td>aaditya</td>\n",
              "      <td>आदित्य</td>\n",
              "    </tr>\n",
              "    <tr>\n",
              "      <th>37</th>\n",
              "      <td>aadityakeshav</td>\n",
              "      <td>आदित्यकेशव</td>\n",
              "    </tr>\n",
              "    <tr>\n",
              "      <th>38</th>\n",
              "      <td>aadityanandan</td>\n",
              "      <td>आदित्यनंदन</td>\n",
              "    </tr>\n",
              "    <tr>\n",
              "      <th>39</th>\n",
              "      <td>aadityavardhan</td>\n",
              "      <td>आदित्यवर्धन</td>\n",
              "    </tr>\n",
              "    <tr>\n",
              "      <th>40</th>\n",
              "      <td>aaditykeshav</td>\n",
              "      <td>आदित्यकेशव</td>\n",
              "    </tr>\n",
              "    <tr>\n",
              "      <th>41</th>\n",
              "      <td>aadmi</td>\n",
              "      <td>आदमी</td>\n",
              "    </tr>\n",
              "    <tr>\n",
              "      <th>42</th>\n",
              "      <td>aadmi khilona hai</td>\n",
              "      <td>आदमी खिलौना है</td>\n",
              "    </tr>\n",
              "    <tr>\n",
              "      <th>43</th>\n",
              "      <td>aadmi sadak ka</td>\n",
              "      <td>आदमी सड़क का</td>\n",
              "    </tr>\n",
              "    <tr>\n",
              "      <th>44</th>\n",
              "      <td>aafiya</td>\n",
              "      <td>आफिया</td>\n",
              "    </tr>\n",
              "    <tr>\n",
              "      <th>45</th>\n",
              "      <td>aafreen</td>\n",
              "      <td>आफरीन</td>\n",
              "    </tr>\n",
              "    <tr>\n",
              "      <th>46</th>\n",
              "      <td>aag</td>\n",
              "      <td>आग</td>\n",
              "    </tr>\n",
              "    <tr>\n",
              "      <th>47</th>\n",
              "      <td>aag aandhi aur toofan</td>\n",
              "      <td>आग आँधी और तूफान</td>\n",
              "    </tr>\n",
              "    <tr>\n",
              "      <th>48</th>\n",
              "      <td>aag aur daag</td>\n",
              "      <td>आग और दाग</td>\n",
              "    </tr>\n",
              "    <tr>\n",
              "      <th>49</th>\n",
              "      <td>aag ka gola</td>\n",
              "      <td>आग का गोला</td>\n",
              "    </tr>\n",
              "  </tbody>\n",
              "</table>\n",
              "</div>\n",
              "      <button class=\"colab-df-convert\" onclick=\"convertToInteractive('df-b87fb65c-c436-4a10-9e96-e7ca246b5859')\"\n",
              "              title=\"Convert this dataframe to an interactive table.\"\n",
              "              style=\"display:none;\">\n",
              "        \n",
              "  <svg xmlns=\"http://www.w3.org/2000/svg\" height=\"24px\"viewBox=\"0 0 24 24\"\n",
              "       width=\"24px\">\n",
              "    <path d=\"M0 0h24v24H0V0z\" fill=\"none\"/>\n",
              "    <path d=\"M18.56 5.44l.94 2.06.94-2.06 2.06-.94-2.06-.94-.94-2.06-.94 2.06-2.06.94zm-11 1L8.5 8.5l.94-2.06 2.06-.94-2.06-.94L8.5 2.5l-.94 2.06-2.06.94zm10 10l.94 2.06.94-2.06 2.06-.94-2.06-.94-.94-2.06-.94 2.06-2.06.94z\"/><path d=\"M17.41 7.96l-1.37-1.37c-.4-.4-.92-.59-1.43-.59-.52 0-1.04.2-1.43.59L10.3 9.45l-7.72 7.72c-.78.78-.78 2.05 0 2.83L4 21.41c.39.39.9.59 1.41.59.51 0 1.02-.2 1.41-.59l7.78-7.78 2.81-2.81c.8-.78.8-2.07 0-2.86zM5.41 20L4 18.59l7.72-7.72 1.47 1.35L5.41 20z\"/>\n",
              "  </svg>\n",
              "      </button>\n",
              "      \n",
              "  <style>\n",
              "    .colab-df-container {\n",
              "      display:flex;\n",
              "      flex-wrap:wrap;\n",
              "      gap: 12px;\n",
              "    }\n",
              "\n",
              "    .colab-df-convert {\n",
              "      background-color: #E8F0FE;\n",
              "      border: none;\n",
              "      border-radius: 50%;\n",
              "      cursor: pointer;\n",
              "      display: none;\n",
              "      fill: #1967D2;\n",
              "      height: 32px;\n",
              "      padding: 0 0 0 0;\n",
              "      width: 32px;\n",
              "    }\n",
              "\n",
              "    .colab-df-convert:hover {\n",
              "      background-color: #E2EBFA;\n",
              "      box-shadow: 0px 1px 2px rgba(60, 64, 67, 0.3), 0px 1px 3px 1px rgba(60, 64, 67, 0.15);\n",
              "      fill: #174EA6;\n",
              "    }\n",
              "\n",
              "    [theme=dark] .colab-df-convert {\n",
              "      background-color: #3B4455;\n",
              "      fill: #D2E3FC;\n",
              "    }\n",
              "\n",
              "    [theme=dark] .colab-df-convert:hover {\n",
              "      background-color: #434B5C;\n",
              "      box-shadow: 0px 1px 3px 1px rgba(0, 0, 0, 0.15);\n",
              "      filter: drop-shadow(0px 1px 2px rgba(0, 0, 0, 0.3));\n",
              "      fill: #FFFFFF;\n",
              "    }\n",
              "  </style>\n",
              "\n",
              "      <script>\n",
              "        const buttonEl =\n",
              "          document.querySelector('#df-b87fb65c-c436-4a10-9e96-e7ca246b5859 button.colab-df-convert');\n",
              "        buttonEl.style.display =\n",
              "          google.colab.kernel.accessAllowed ? 'block' : 'none';\n",
              "\n",
              "        async function convertToInteractive(key) {\n",
              "          const element = document.querySelector('#df-b87fb65c-c436-4a10-9e96-e7ca246b5859');\n",
              "          const dataTable =\n",
              "            await google.colab.kernel.invokeFunction('convertToInteractive',\n",
              "                                                     [key], {});\n",
              "          if (!dataTable) return;\n",
              "\n",
              "          const docLinkHtml = 'Like what you see? Visit the ' +\n",
              "            '<a target=\"_blank\" href=https://colab.research.google.com/notebooks/data_table.ipynb>data table notebook</a>'\n",
              "            + ' to learn more about interactive tables.';\n",
              "          element.innerHTML = '';\n",
              "          dataTable['output_type'] = 'display_data';\n",
              "          await google.colab.output.renderOutput(dataTable, element);\n",
              "          const docLink = document.createElement('div');\n",
              "          docLink.innerHTML = docLinkHtml;\n",
              "          element.appendChild(docLink);\n",
              "        }\n",
              "      </script>\n",
              "    </div>\n",
              "  </div>\n",
              "  "
            ]
          },
          "metadata": {},
          "execution_count": 11
        }
      ]
    },
    {
      "cell_type": "markdown",
      "metadata": {
        "id": "dfnQ6DAVB3To"
      },
      "source": [
        "#### Import Depndencies"
      ]
    },
    {
      "cell_type": "code",
      "execution_count": 12,
      "metadata": {
        "id": "JlpJjdXuB3To"
      },
      "outputs": [],
      "source": [
        "import nltk\n",
        "from collections import Counter\n",
        "from tqdm import tqdm_notebook\n",
        "import numpy as np\n",
        "import tensorflow as tf\n",
        "from tensorflow.contrib import seq2seq\n",
        "from tensorflow.contrib.rnn import DropoutWrapper\n",
        "import random"
      ]
    },
    {
      "cell_type": "code",
      "execution_count": 13,
      "metadata": {
        "id": "iRwGWcQHB3Tq",
        "outputId": "f01c6f9d-4a52-40ec-b9c1-eb6ae587f2d5",
        "colab": {
          "base_uri": "https://localhost:8080/"
        }
      },
      "outputs": [
        {
          "output_type": "stream",
          "name": "stderr",
          "text": [
            "[nltk_data] Downloading package punkt to /root/nltk_data...\n",
            "[nltk_data]   Unzipping tokenizers/punkt.zip.\n"
          ]
        },
        {
          "output_type": "execute_result",
          "data": {
            "text/plain": [
              "True"
            ]
          },
          "metadata": {},
          "execution_count": 13
        }
      ],
      "source": [
        "nltk.download('punkt')"
      ]
    },
    {
      "cell_type": "markdown",
      "metadata": {
        "id": "6TZLopZ2B3Tq"
      },
      "source": [
        "#### Global Parameters"
      ]
    },
    {
      "cell_type": "code",
      "execution_count": 14,
      "metadata": {
        "id": "SdyixCi0B3Tr"
      },
      "outputs": [],
      "source": [
        "MAX_SEQ_LEN = 20\n",
        "BATCH_SIZE = 64"
      ]
    },
    {
      "cell_type": "markdown",
      "metadata": {
        "id": "ZlUXBdffB3Tr"
      },
      "source": [
        "### Language Vocabulary \n",
        "* (Vocab of characters, i.e. an Alphabet)"
      ]
    },
    {
      "cell_type": "code",
      "execution_count": 15,
      "metadata": {
        "id": "JUPtxiKqB3Ts"
      },
      "outputs": [],
      "source": [
        "class Lang:\n",
        "    def __init__(self, counter, vocab_size):\n",
        "        self.word2id = {}\n",
        "        self.id2word = {}\n",
        "        self.pad = \"<PAD>\"\n",
        "        self.sos = \"<SOS>\"\n",
        "        self.eos = \"<EOS>\"\n",
        "        self.unk = \"<UNK>\"\n",
        "        \n",
        "        self.ipad = 0\n",
        "        self.isos = 1\n",
        "        self.ieos = 2\n",
        "        self.iunk = 3\n",
        "        \n",
        "        self.word2id[self.pad] = 0\n",
        "        self.word2id[self.sos] = 1\n",
        "        self.word2id[self.eos] = 2\n",
        "        self.word2id[self.unk] = 3\n",
        "        \n",
        "        self.id2word[0] = self.pad\n",
        "        self.id2word[1] = self.sos\n",
        "        self.id2word[2] = self.eos\n",
        "        self.id2word[3] = self.unk\n",
        "        \n",
        "        curr_id = 4\n",
        "        for w, c in counter.most_common(vocab_size):\n",
        "            self.word2id[w] = curr_id\n",
        "            self.id2word[curr_id] = w\n",
        "            curr_id += 1\n",
        "            \n",
        "    def encodeSentence(self, s, max_len=-1):\n",
        "        wseq = s.lower().strip()\n",
        "        if max_len == -1:\n",
        "            return [self.word2id[w] if w in self.word2id else self.iunk for w in wseq]\n",
        "        else:\n",
        "            return ([self.word2id[w] if w in self.word2id else self.iunk for w in wseq] + [self.ieos] + [self.ipad]*max_len)[:max_len]\n",
        "        \n",
        "    def encodeSentence2(self, s, max_len=-1):\n",
        "        wseq = wseq = s.lower().strip()\n",
        "        return min(max_len, len(wseq)+1), \\\n",
        "            ([self.word2id[w] if w in self.word2id else self.iunk for w in wseq] + \\\n",
        "                [self.ieos] + [self.ipad]*max_len)[:max_len]\n",
        "    \n",
        "    def decodeSentence(self, id_seq):\n",
        "        id_seq = np.array(id_seq + [self.ieos])\n",
        "        j = np.argmax(id_seq==self.ieos)\n",
        "        s = ''.join([self.id2word[x] for x in id_seq[:j]])\n",
        "        s = s.replace(self.unk, \"UNK\")\n",
        "        return s"
      ]
    },
    {
      "cell_type": "code",
      "execution_count": 16,
      "metadata": {
        "id": "Gzj9PbkmB3Tt"
      },
      "outputs": [],
      "source": [
        "# Total number of samples to read\n",
        "N = 30823"
      ]
    },
    {
      "cell_type": "markdown",
      "metadata": {
        "id": "7DOL7d1OB3Tt"
      },
      "source": [
        "### Reading the data files\n",
        "- Each line contains a hindi word in both English and Devnagari script"
      ]
    },
    {
      "cell_type": "code",
      "execution_count": 19,
      "metadata": {
        "id": "dE7gcIG9B3Tu",
        "outputId": "2e8c3764-ce0c-424d-c32a-f164eef76671",
        "colab": {
          "referenced_widgets": [
            "f7b085c828394122963a8a79e7b83f6f",
            "bceef2a3f8064ff99b41d8d21821a17f",
            "36bb44eaa069452f8062fd8b19504c25",
            "501d7e05d11941de8fd30da74b7bec29",
            "f5a2a75f7f7e4649a18cedeb3c80e48a",
            "4b5fb2f8390e4037ac428a3e3dcbd4ee",
            "60b25ae760ab4435969f314c61f861e6",
            "f9b1457d5d0646fcb1ecdee220ddcf7e",
            "b2c0bb573c07449a9bb741958b6fab28",
            "257f794f011e45a5a3ba1b0a705d65e0",
            "f1cfa8c6fefa4d77a27d8b56a33643bf",
            "7c54737a3d3a4a8893d926d883562c4b",
            "402e2ff9762c4b9d8363b4b810a64840",
            "d909692498644bcc9327b6e4ad101e36",
            "8f5e94b1b04a4481b9d5c2af6e19e008",
            "4cef16735b29461ba56a5381c075b800",
            "b90549ec83514e85bf533640133c477b",
            "5ce78b26337b4a14a14b16cea096dbf0",
            "c292ae43300f470ca29fde249006eb9a",
            "10d7051b72f140b4acb4b9a60efe707f",
            "cb0fbd1d272f4dbbb8f92807c6bb1734",
            "c565db0f609645c59c99fb6d0cdf47ed",
            "4365c74d564a4057b4df718c433140c1",
            "6c4b2c49fe0b46b7a886ba5337182fd8",
            "3a833c72273d4cd982f63ced8e4371f7",
            "68b54133b3ae4168968bb7cbca210fcf",
            "224512c3e75247ad8ec70f61461140e8",
            "c76167d4d96b4e9abc708a07a0a1c361",
            "e985b58242cb4fdb98e57baeac015d22",
            "c00562cfae9b47a5b37451d55d71a72a",
            "7ffee26f9fb34581907efb19b0bd1ccb",
            "c0f7bf8c5e8948d694f54647722ceacf",
            "8b610bed6ecb4967a20a1161828c3dcb"
          ],
          "base_uri": "https://localhost:8080/",
          "height": 269
        }
      },
      "outputs": [
        {
          "output_type": "stream",
          "name": "stderr",
          "text": [
            "/usr/local/lib/python3.7/dist-packages/ipykernel_launcher.py:6: TqdmDeprecationWarning: This function will be removed in tqdm==5.0.0\n",
            "Please use `tqdm.notebook.tqdm` instead of `tqdm.tqdm_notebook`\n",
            "  \n"
          ]
        },
        {
          "output_type": "display_data",
          "data": {
            "text/plain": [
              "Reading file::   0%|          | 0/30823 [00:00<?, ?it/s]"
            ],
            "application/vnd.jupyter.widget-view+json": {
              "version_major": 2,
              "version_minor": 0,
              "model_id": "f7b085c828394122963a8a79e7b83f6f"
            }
          },
          "metadata": {}
        },
        {
          "output_type": "stream",
          "name": "stderr",
          "text": [
            "/usr/local/lib/python3.7/dist-packages/ipykernel_launcher.py:10: TqdmDeprecationWarning: This function will be removed in tqdm==5.0.0\n",
            "Please use `tqdm.notebook.tqdm` instead of `tqdm.tqdm_notebook`\n",
            "  # Remove the CWD from sys.path while we load stuff.\n"
          ]
        },
        {
          "output_type": "display_data",
          "data": {
            "text/plain": [
              "Processing inputs::   0%|          | 0/30823 [00:00<?, ?it/s]"
            ],
            "application/vnd.jupyter.widget-view+json": {
              "version_major": 2,
              "version_minor": 0,
              "model_id": "7c54737a3d3a4a8893d926d883562c4b"
            }
          },
          "metadata": {}
        },
        {
          "output_type": "stream",
          "name": "stderr",
          "text": [
            "/usr/local/lib/python3.7/dist-packages/ipykernel_launcher.py:13: TqdmDeprecationWarning: This function will be removed in tqdm==5.0.0\n",
            "Please use `tqdm.notebook.tqdm` instead of `tqdm.tqdm_notebook`\n",
            "  del sys.path[0]\n"
          ]
        },
        {
          "output_type": "display_data",
          "data": {
            "text/plain": [
              "Processing inputs::   0%|          | 0/30823 [00:00<?, ?it/s]"
            ],
            "application/vnd.jupyter.widget-view+json": {
              "version_major": 2,
              "version_minor": 0,
              "model_id": "4365c74d564a4057b4df718c433140c1"
            }
          },
          "metadata": {}
        }
      ],
      "source": [
        "hi_counter = Counter()\n",
        "hi_sentences=[]\n",
        "en_counter = Counter()\n",
        "en_sentences=[]\n",
        "with open(\"/content/drive/MyDrive/EngtoHin.txt\") as f:\n",
        "    for line in tqdm_notebook(f, total=N, desc=\"Reading file:\"):\n",
        "        en, hi = line.strip().split(\"\\t\")\n",
        "        hi_sentences.append(hi)\n",
        "        en_sentences.append(en)\n",
        "    for line in tqdm_notebook(hi_sentences, desc=\"Processing inputs:\"):\n",
        "        for w in line.strip():\n",
        "            hi_counter[w] += 1\n",
        "    for line in tqdm_notebook(en_sentences, desc=\"Processing inputs:\"):\n",
        "        for w in line.strip():\n",
        "            en_counter[w] += 1"
      ]
    },
    {
      "cell_type": "code",
      "execution_count": 20,
      "metadata": {
        "id": "xQON624nB3Tv"
      },
      "outputs": [],
      "source": [
        "en_lang = Lang(en_counter, len(en_counter))\n",
        "hi_lang = Lang(hi_counter, len(hi_counter))"
      ]
    },
    {
      "cell_type": "code",
      "execution_count": 21,
      "metadata": {
        "scrolled": true,
        "id": "ofzbBF3vB3Tv",
        "outputId": "6db62ab0-3938-48d4-e9f3-c4b7ed402bc0",
        "colab": {
          "base_uri": "https://localhost:8080/"
        }
      },
      "outputs": [
        {
          "output_type": "stream",
          "name": "stdout",
          "text": [
            "Test en encoding: [15, 7, 10, 13, 9, 6, 20, 4]\n",
            "Test en decoding: shukriya\n",
            "Test hindi encoding: [35, 19, 15, 22, 5, 12, 21, 4, 2, 0]\n",
            "Test hindi decoding: शुक्रिया\n"
          ]
        }
      ],
      "source": [
        "print(\"Test en encoding:\", en_lang.encodeSentence(\"Shukriya\"))\n",
        "\n",
        "print(\"Test en decoding:\", en_lang.decodeSentence(en_lang.encodeSentence(\"Shukriya\", 10)))\n",
        "\n",
        "print(\"Test hindi encoding:\", hi_lang.encodeSentence(\"शुक्रिया\", 10))\n",
        "\n",
        "print(\"Test hindi decoding:\", hi_lang.decodeSentence((hi_lang.encodeSentence(\"शुक्रिया\", 10))))"
      ]
    },
    {
      "cell_type": "code",
      "execution_count": 22,
      "metadata": {
        "id": "ygkHLxXQB3Tw"
      },
      "outputs": [],
      "source": [
        "VE = len(en_lang.word2id)\n",
        "VH = len(hi_lang.word2id)"
      ]
    },
    {
      "cell_type": "markdown",
      "metadata": {
        "id": "vTP8gLThB3Tx"
      },
      "source": [
        "### The Seq2Seq architecture\n"
      ]
    },
    {
      "cell_type": "markdown",
      "metadata": {
        "id": "gGyZM2VoB3Tx"
      },
      "source": [
        "#### Character Embedding Matrix"
      ]
    },
    {
      "cell_type": "code",
      "execution_count": 1,
      "metadata": {
        "id": "bWyT0mKFB3Tx",
        "outputId": "92df7924-cef1-4f5c-f08a-7fe163427750",
        "colab": {
          "base_uri": "https://localhost:8080/",
          "height": 182
        }
      },
      "outputs": [
        {
          "output_type": "error",
          "ename": "NameError",
          "evalue": "ignored",
          "traceback": [
            "\u001b[0;31m---------------------------------------------------------------------------\u001b[0m",
            "\u001b[0;31mNameError\u001b[0m                                 Traceback (most recent call last)",
            "\u001b[0;32m<ipython-input-1-75b354de1709>\u001b[0m in \u001b[0;36m<module>\u001b[0;34m()\u001b[0m\n\u001b[0;32m----> 1\u001b[0;31m \u001b[0men_word_emb_matrix\u001b[0m \u001b[0;34m=\u001b[0m \u001b[0mtf\u001b[0m\u001b[0;34m.\u001b[0m\u001b[0mget_variable\u001b[0m\u001b[0;34m(\u001b[0m\u001b[0;34m\"en_word_emb_matrix\"\u001b[0m\u001b[0;34m,\u001b[0m \u001b[0;34m(\u001b[0m\u001b[0mVE\u001b[0m\u001b[0;34m,\u001b[0m \u001b[0;36m300\u001b[0m\u001b[0;34m)\u001b[0m\u001b[0;34m,\u001b[0m \u001b[0mdtype\u001b[0m\u001b[0;34m=\u001b[0m\u001b[0mtf\u001b[0m\u001b[0;34m.\u001b[0m\u001b[0mfloat32\u001b[0m\u001b[0;34m)\u001b[0m\u001b[0;34m\u001b[0m\u001b[0;34m\u001b[0m\u001b[0m\n\u001b[0m\u001b[1;32m      2\u001b[0m \u001b[0mhi_word_emb_matrix\u001b[0m \u001b[0;34m=\u001b[0m \u001b[0mtf\u001b[0m\u001b[0;34m.\u001b[0m\u001b[0mget_variable\u001b[0m\u001b[0;34m(\u001b[0m\u001b[0;34m\"hi_word_emb_matrix\"\u001b[0m\u001b[0;34m,\u001b[0m \u001b[0;34m(\u001b[0m\u001b[0mVH\u001b[0m\u001b[0;34m,\u001b[0m \u001b[0;36m300\u001b[0m\u001b[0;34m)\u001b[0m\u001b[0;34m,\u001b[0m \u001b[0mdtype\u001b[0m\u001b[0;34m=\u001b[0m\u001b[0mtf\u001b[0m\u001b[0;34m.\u001b[0m\u001b[0mfloat32\u001b[0m\u001b[0;34m)\u001b[0m\u001b[0;34m\u001b[0m\u001b[0;34m\u001b[0m\u001b[0m\n",
            "\u001b[0;31mNameError\u001b[0m: name 'tf' is not defined"
          ]
        }
      ],
      "source": [
        "en_word_emb_matrix = tf.get_variable(\"en_word_emb_matrix\", (VE, 300), dtype=tf.float32)\n",
        "hi_word_emb_matrix = tf.get_variable(\"hi_word_emb_matrix\", (VH, 300), dtype=tf.float32)"
      ]
    },
    {
      "cell_type": "markdown",
      "metadata": {
        "id": "2kEGuefeB3Ty"
      },
      "source": [
        "#### Placeholders\n",
        "- Input to a tensorflow graph is "
      ]
    },
    {
      "cell_type": "code",
      "execution_count": 2,
      "metadata": {
        "id": "H3QBRl87B3Ty",
        "colab": {
          "base_uri": "https://localhost:8080/",
          "height": 235
        },
        "outputId": "3c31d1f4-bdec-429b-eb93-eae8c1101e60"
      },
      "outputs": [
        {
          "output_type": "error",
          "ename": "NameError",
          "evalue": "ignored",
          "traceback": [
            "\u001b[0;31m---------------------------------------------------------------------------\u001b[0m",
            "\u001b[0;31mNameError\u001b[0m                                 Traceback (most recent call last)",
            "\u001b[0;32m<ipython-input-2-1b64a7fe15e4>\u001b[0m in \u001b[0;36m<module>\u001b[0;34m()\u001b[0m\n\u001b[0;32m----> 1\u001b[0;31m \u001b[0mkeep_prob\u001b[0m \u001b[0;34m=\u001b[0m \u001b[0mtf\u001b[0m\u001b[0;34m.\u001b[0m\u001b[0mplaceholder\u001b[0m\u001b[0;34m(\u001b[0m\u001b[0mtf\u001b[0m\u001b[0;34m.\u001b[0m\u001b[0mfloat32\u001b[0m\u001b[0;34m)\u001b[0m\u001b[0;34m\u001b[0m\u001b[0;34m\u001b[0m\u001b[0m\n\u001b[0m\u001b[1;32m      2\u001b[0m \u001b[0;34m\u001b[0m\u001b[0m\n\u001b[1;32m      3\u001b[0m \u001b[0minput_ids\u001b[0m \u001b[0;34m=\u001b[0m \u001b[0mtf\u001b[0m\u001b[0;34m.\u001b[0m\u001b[0mplaceholder\u001b[0m\u001b[0;34m(\u001b[0m\u001b[0mtf\u001b[0m\u001b[0;34m.\u001b[0m\u001b[0mint32\u001b[0m\u001b[0;34m,\u001b[0m \u001b[0;34m(\u001b[0m\u001b[0;32mNone\u001b[0m\u001b[0;34m,\u001b[0m \u001b[0mMAX_SEQ_LEN\u001b[0m\u001b[0;34m)\u001b[0m\u001b[0;34m)\u001b[0m\u001b[0;34m\u001b[0m\u001b[0;34m\u001b[0m\u001b[0m\n\u001b[1;32m      4\u001b[0m \u001b[0minput_lens\u001b[0m \u001b[0;34m=\u001b[0m \u001b[0mtf\u001b[0m\u001b[0;34m.\u001b[0m\u001b[0mplaceholder\u001b[0m\u001b[0;34m(\u001b[0m\u001b[0mtf\u001b[0m\u001b[0;34m.\u001b[0m\u001b[0mint32\u001b[0m\u001b[0;34m,\u001b[0m \u001b[0;34m(\u001b[0m\u001b[0;32mNone\u001b[0m\u001b[0;34m,\u001b[0m \u001b[0;34m)\u001b[0m\u001b[0;34m)\u001b[0m\u001b[0;34m\u001b[0m\u001b[0;34m\u001b[0m\u001b[0m\n\u001b[1;32m      5\u001b[0m \u001b[0;34m\u001b[0m\u001b[0m\n",
            "\u001b[0;31mNameError\u001b[0m: name 'tf' is not defined"
          ]
        }
      ],
      "source": [
        "keep_prob = tf.placeholder(tf.float32)\n",
        "\n",
        "input_ids = tf.placeholder(tf.int32, (None, MAX_SEQ_LEN))\n",
        "input_lens = tf.placeholder(tf.int32, (None, ))\n",
        "\n",
        "ph_target_ids = tf.placeholder(tf.int32, (None, MAX_SEQ_LEN))\n",
        "target_lens = tf.placeholder(tf.int32, (None, ))"
      ]
    },
    {
      "cell_type": "code",
      "execution_count": 3,
      "metadata": {
        "id": "UWZ68G0TB3Ty",
        "colab": {
          "base_uri": "https://localhost:8080/",
          "height": 182
        },
        "outputId": "bc8dec22-37e8-4ece-9abc-592935abf6b2"
      },
      "outputs": [
        {
          "output_type": "error",
          "ename": "NameError",
          "evalue": "ignored",
          "traceback": [
            "\u001b[0;31m---------------------------------------------------------------------------\u001b[0m",
            "\u001b[0;31mNameError\u001b[0m                                 Traceback (most recent call last)",
            "\u001b[0;32m<ipython-input-3-9e2bded0a4cc>\u001b[0m in \u001b[0;36m<module>\u001b[0;34m()\u001b[0m\n\u001b[1;32m      1\u001b[0m \u001b[0;31m# Add SOS or GO symbol\u001b[0m\u001b[0;34m\u001b[0m\u001b[0;34m\u001b[0m\u001b[0;34m\u001b[0m\u001b[0m\n\u001b[0;32m----> 2\u001b[0;31m \u001b[0mtarget_ids\u001b[0m \u001b[0;34m=\u001b[0m \u001b[0mtf\u001b[0m\u001b[0;34m.\u001b[0m\u001b[0mconcat\u001b[0m\u001b[0;34m(\u001b[0m\u001b[0;34m[\u001b[0m\u001b[0mtf\u001b[0m\u001b[0;34m.\u001b[0m\u001b[0mfill\u001b[0m\u001b[0;34m(\u001b[0m\u001b[0;34m[\u001b[0m\u001b[0mBATCH_SIZE\u001b[0m\u001b[0;34m,\u001b[0m\u001b[0;36m1\u001b[0m\u001b[0;34m]\u001b[0m\u001b[0;34m,\u001b[0m \u001b[0mhi_lang\u001b[0m\u001b[0;34m.\u001b[0m\u001b[0misos\u001b[0m\u001b[0;34m)\u001b[0m\u001b[0;34m,\u001b[0m \u001b[0mph_target_ids\u001b[0m\u001b[0;34m]\u001b[0m\u001b[0;34m,\u001b[0m \u001b[0;34m-\u001b[0m\u001b[0;36m1\u001b[0m\u001b[0;34m)\u001b[0m\u001b[0;34m\u001b[0m\u001b[0;34m\u001b[0m\u001b[0m\n\u001b[0m",
            "\u001b[0;31mNameError\u001b[0m: name 'tf' is not defined"
          ]
        }
      ],
      "source": [
        "# Add SOS or GO symbol\n",
        "target_ids = tf.concat([tf.fill([BATCH_SIZE,1], hi_lang.isos), ph_target_ids], -1)"
      ]
    },
    {
      "cell_type": "markdown",
      "metadata": {
        "id": "M0d8dtjwB3Ty"
      },
      "source": [
        "#### Building the computation graph"
      ]
    },
    {
      "cell_type": "code",
      "execution_count": 4,
      "metadata": {
        "id": "hclB4sjZB3Tz",
        "colab": {
          "base_uri": "https://localhost:8080/",
          "height": 182
        },
        "outputId": "1304bbec-7260-4676-e21f-c7d224376648"
      },
      "outputs": [
        {
          "output_type": "error",
          "ename": "NameError",
          "evalue": "ignored",
          "traceback": [
            "\u001b[0;31m---------------------------------------------------------------------------\u001b[0m",
            "\u001b[0;31mNameError\u001b[0m                                 Traceback (most recent call last)",
            "\u001b[0;32m<ipython-input-4-dbeeb5430801>\u001b[0m in \u001b[0;36m<module>\u001b[0;34m()\u001b[0m\n\u001b[0;32m----> 1\u001b[0;31m \u001b[0minput_emb\u001b[0m \u001b[0;34m=\u001b[0m \u001b[0mtf\u001b[0m\u001b[0;34m.\u001b[0m\u001b[0mnn\u001b[0m\u001b[0;34m.\u001b[0m\u001b[0membedding_lookup\u001b[0m\u001b[0;34m(\u001b[0m\u001b[0men_word_emb_matrix\u001b[0m\u001b[0;34m,\u001b[0m \u001b[0minput_ids\u001b[0m\u001b[0;34m)\u001b[0m\u001b[0;34m\u001b[0m\u001b[0;34m\u001b[0m\u001b[0m\n\u001b[0m\u001b[1;32m      2\u001b[0m \u001b[0mtarget_emb\u001b[0m \u001b[0;34m=\u001b[0m \u001b[0mtf\u001b[0m\u001b[0;34m.\u001b[0m\u001b[0mnn\u001b[0m\u001b[0;34m.\u001b[0m\u001b[0membedding_lookup\u001b[0m\u001b[0;34m(\u001b[0m\u001b[0mhi_word_emb_matrix\u001b[0m\u001b[0;34m,\u001b[0m \u001b[0mtarget_ids\u001b[0m\u001b[0;34m[\u001b[0m\u001b[0;34m:\u001b[0m\u001b[0;34m,\u001b[0m \u001b[0;34m:\u001b[0m\u001b[0;34m-\u001b[0m\u001b[0;36m1\u001b[0m\u001b[0;34m]\u001b[0m\u001b[0;34m)\u001b[0m\u001b[0;34m\u001b[0m\u001b[0;34m\u001b[0m\u001b[0m\n",
            "\u001b[0;31mNameError\u001b[0m: name 'tf' is not defined"
          ]
        }
      ],
      "source": [
        "input_emb = tf.nn.embedding_lookup(en_word_emb_matrix, input_ids)\n",
        "target_emb = tf.nn.embedding_lookup(hi_word_emb_matrix, target_ids[:, :-1])"
      ]
    },
    {
      "cell_type": "code",
      "execution_count": null,
      "metadata": {
        "id": "Ne2nPzriB3Tz"
      },
      "outputs": [],
      "source": [
        "input_emb.shape"
      ]
    },
    {
      "cell_type": "markdown",
      "metadata": {
        "id": "WWPo5ZL5B3Tz"
      },
      "source": [
        "#### Encoder - RNN based sequence encoder"
      ]
    },
    {
      "cell_type": "code",
      "execution_count": null,
      "metadata": {
        "id": "iM50KfSiB3T0"
      },
      "outputs": [],
      "source": [
        "\n",
        "\n",
        "encoder_cell = tf.nn.rnn_cell.GRUCell(128) # 128 is the dimension of hidden state\n",
        "encoder_cell = DropoutWrapper(encoder_cell, output_keep_prob=keep_prob) # Adding Dropout for regularization"
      ]
    },
    {
      "cell_type": "code",
      "execution_count": null,
      "metadata": {
        "id": "MBvsJ9o1B3T0"
      },
      "outputs": [],
      "source": [
        "enc_outputs, enc_state = tf.nn.dynamic_rnn(\n",
        "    encoder_cell, # The encoder GRU cell\n",
        "    input_emb, # Embedded input sequence\n",
        "    sequence_length=input_lens, # Sequence lengths of individual inputs in a batch\n",
        "    initial_state=encoder_cell.zero_state(BATCH_SIZE, dtype=tf.float32)\n",
        ")"
      ]
    },
    {
      "cell_type": "code",
      "execution_count": null,
      "metadata": {
        "id": "gT6HPeiBB3T1"
      },
      "outputs": [],
      "source": [
        "# Confirm the shape of the final hidden state\n",
        "enc_state.shape"
      ]
    },
    {
      "cell_type": "markdown",
      "metadata": {
        "id": "hbUFPJbOB3T2"
      },
      "source": [
        "#### Decoder"
      ]
    },
    {
      "cell_type": "code",
      "execution_count": null,
      "metadata": {
        "id": "DUfcTejjB3T2"
      },
      "outputs": [],
      "source": [
        "\n",
        "decoder_cell = tf.nn.rnn_cell.GRUCell(128)\n",
        "decoder_cell = DropoutWrapper(decoder_cell, output_keep_prob=keep_prob)"
      ]
    },
    {
      "cell_type": "markdown",
      "metadata": {
        "id": "mRlnjjlkB3T3"
      },
      "source": [
        "#### Decoder to Output Vocab Projection Layer"
      ]
    },
    {
      "cell_type": "code",
      "execution_count": null,
      "metadata": {
        "id": "OmsTyu7UB3T3"
      },
      "outputs": [],
      "source": [
        "output_projection = tf.layers.Dense(len(hi_lang.word2id))"
      ]
    },
    {
      "cell_type": "markdown",
      "metadata": {
        "id": "X0OuUO4MB3T3"
      },
      "source": [
        "#### Decoder Training Helper"
      ]
    },
    {
      "cell_type": "code",
      "execution_count": null,
      "metadata": {
        "id": "G3GePi3IB3T4"
      },
      "outputs": [],
      "source": [
        "helper = seq2seq.TrainingHelper(target_emb, target_lens)\n",
        "decoder = seq2seq.BasicDecoder(decoder_cell, helper, enc_state, output_projection)\n",
        "outputs, _, outputs_lens = seq2seq.dynamic_decode(decoder, maximum_iterations=MAX_SEQ_LEN, \n",
        "                                                  impute_finished=False, swap_memory=True)\n",
        "output_max_len = tf.reduce_max(outputs_lens)"
      ]
    },
    {
      "cell_type": "markdown",
      "metadata": {
        "id": "1r1RYGQXB3T4"
      },
      "source": [
        "#### And Decoder Inference Helper"
      ]
    },
    {
      "cell_type": "code",
      "execution_count": null,
      "metadata": {
        "id": "yYHKjtZFB3T4"
      },
      "outputs": [],
      "source": [
        "# Using the decoder_cell without dropout here.\n",
        "infer_helper = seq2seq.GreedyEmbeddingHelper(hi_word_emb_matrix, tf.fill([BATCH_SIZE, ], hi_lang.isos), hi_lang.ieos)\n",
        "infer_decoder = seq2seq.BasicDecoder(decoder_cell, infer_helper, enc_state, output_projection)\n",
        "infer_output = seq2seq.dynamic_decode(infer_decoder, maximum_iterations=MAX_SEQ_LEN, swap_memory=True)"
      ]
    },
    {
      "cell_type": "markdown",
      "metadata": {
        "id": "0YykIUbOB3T5"
      },
      "source": [
        "#### Loss and Optimizers"
      ]
    },
    {
      "cell_type": "code",
      "execution_count": null,
      "metadata": {
        "id": "H13WGnuSB3T5"
      },
      "outputs": [],
      "source": [
        "# Sequence mask:\n",
        "# To make sure we don't back-propagate error from output of length positions\n",
        "masks = tf.sequence_mask(target_lens, output_max_len, dtype=tf.float32, name='masks')\n",
        "\n",
        "# Loss function - weighted softmax cross entropy\n",
        "cost = seq2seq.sequence_loss(\n",
        "    outputs[0],\n",
        "    target_ids[:, 1:(output_max_len + 1)],\n",
        "    masks)\n",
        "\n",
        "# Optimizer\n",
        "optimizer = tf.train.AdamOptimizer(0.0001)"
      ]
    },
    {
      "cell_type": "code",
      "execution_count": null,
      "metadata": {
        "id": "zLBxyQrdB3T5"
      },
      "outputs": [],
      "source": [
        "train_op = optimizer.minimize(cost)"
      ]
    },
    {
      "cell_type": "code",
      "execution_count": null,
      "metadata": {
        "id": "WWDLVWREB3T6"
      },
      "outputs": [],
      "source": [
        "init = tf.global_variables_initializer()"
      ]
    },
    {
      "cell_type": "markdown",
      "metadata": {
        "id": "aTvOXKBpB3T6"
      },
      "source": [
        "#### Tensorflow Sessions"
      ]
    },
    {
      "cell_type": "code",
      "execution_count": null,
      "metadata": {
        "id": "BadebxoRB3T6"
      },
      "outputs": [],
      "source": [
        "sess_config = tf.ConfigProto()\n",
        "sess_config.gpu_options.allow_growth = True"
      ]
    },
    {
      "cell_type": "code",
      "execution_count": null,
      "metadata": {
        "id": "j2s9Xg5jB3T7"
      },
      "outputs": [],
      "source": [
        "sess = tf.InteractiveSession(config=sess_config)\n",
        "sess.run(init)"
      ]
    },
    {
      "cell_type": "markdown",
      "metadata": {
        "id": "CIa8ef3dB3T7"
      },
      "source": [
        "#### Minibatch Training + Validation\n",
        "- Performance Evaluation using BLEU scores"
      ]
    },
    {
      "cell_type": "code",
      "execution_count": null,
      "metadata": {
        "id": "QidbyOfBB3T7"
      },
      "outputs": [],
      "source": [
        "random.seed(41)"
      ]
    },
    {
      "cell_type": "code",
      "execution_count": null,
      "metadata": {
        "id": "zl9Z0LfMB3T7"
      },
      "outputs": [],
      "source": [
        "parallel = list(zip(en_sentences, hi_sentences))"
      ]
    },
    {
      "cell_type": "code",
      "execution_count": null,
      "metadata": {
        "id": "aTrgiD3EB3T8"
      },
      "outputs": [],
      "source": [
        "random.shuffle(parallel)"
      ]
    },
    {
      "cell_type": "code",
      "execution_count": null,
      "metadata": {
        "id": "_GtSR4eiB3T8"
      },
      "outputs": [],
      "source": [
        "parallel[1000]"
      ]
    },
    {
      "cell_type": "code",
      "execution_count": null,
      "metadata": {
        "id": "rq2H6esFB3T8"
      },
      "outputs": [],
      "source": [
        "train_n = int(0.95*N)\n",
        "valid_n = N - train_n"
      ]
    },
    {
      "cell_type": "code",
      "execution_count": null,
      "metadata": {
        "id": "i4iz8DtpB3T9"
      },
      "outputs": [],
      "source": [
        "train_pairs = parallel[:train_n].copy()\n",
        "valid_pairs = parallel[train_n:]"
      ]
    },
    {
      "cell_type": "code",
      "execution_count": null,
      "metadata": {
        "id": "PR5WtDa5B3T9"
      },
      "outputs": [],
      "source": [
        "def small_test():\n",
        "    all_bleu = []\n",
        "    smoothing = nltk.translate.bleu_score.SmoothingFunction().method7\n",
        "    for m in range(0, valid_n, BATCH_SIZE):\n",
        "        # print(f\"Status: {m}/{N}\", end='\\r')\n",
        "        n = m + BATCH_SIZE\n",
        "        if n > valid_n:\n",
        "            # print(\"Epoch Complete...\")\n",
        "            break\n",
        "\n",
        "        input_batch = np.zeros((BATCH_SIZE, MAX_SEQ_LEN), dtype=np.int32)\n",
        "        input_lens_batch = np.zeros((BATCH_SIZE,), dtype=np.int32)\n",
        "        for i in range(m, n):\n",
        "            b,a = en_lang.encodeSentence2(valid_pairs[i][0], MAX_SEQ_LEN)\n",
        "            input_batch[i-m,:] = a\n",
        "            input_lens_batch[i-m] = b\n",
        "\n",
        "    #     target_batch = np.zeros((BATCH_SIZE, MAX_SEQ_LEN), dtype=np.int32)\n",
        "    #     target_lens_batch = np.zeros((BATCH_SIZE,), dtype=np.int32)\n",
        "    #     for i in range(m, n):\n",
        "    #         b,a = hi_lang.encodeSentence2(valid_pairs[i][1], MAX_SEQ_LEN)\n",
        "    #         target_batch[i-m,:] = a\n",
        "    #         target_lens_batch[i-m] = b\n",
        "\n",
        "        feed_dict={\n",
        "            input_ids: input_batch,\n",
        "            input_lens: input_lens_batch,\n",
        "            #target_ids: target_batch,\n",
        "            #target_lens: target_lens_batch,\n",
        "            keep_prob: 1.0\n",
        "        }\n",
        "        pred_batch = sess.run(infer_output[0].sample_id, feed_dict=feed_dict)\n",
        "        for k, pred_ in enumerate(pred_batch):\n",
        "            pred_s = hi_lang.decodeSentence(list(pred_))\n",
        "            ref = valid_pairs[m+k][1]\n",
        "            try:\n",
        "                _bx = nltk.translate.bleu_score.sentence_bleu(\n",
        "                    [ref],\n",
        "                    pred_s,\n",
        "                    weights=[1/4]*4,\n",
        "                    smoothing_function=smoothing)\n",
        "            except ZeroDivisionError:\n",
        "                _bx = 0\n",
        "            all_bleu.append(_bx)\n",
        "\n",
        "    print(f\"BLEU Score: {np.mean(all_bleu)}\")"
      ]
    },
    {
      "cell_type": "code",
      "execution_count": null,
      "metadata": {
        "scrolled": true,
        "id": "TZlc6yVGB3T-"
      },
      "outputs": [],
      "source": [
        "for _e in range(20):\n",
        "    # Mix things up a bit.\n",
        "    random.shuffle(train_pairs)\n",
        "    pbar = tqdm_notebook(range(0, train_n, BATCH_SIZE))\n",
        "    batch_loss = 0\n",
        "    bxi = 0\n",
        "    for m in pbar:\n",
        "        n = m + BATCH_SIZE\n",
        "        if n <= train_n:\n",
        "            # print(\"Epoch Complete... \\n\")\n",
        "\n",
        "            input_batch = np.zeros((BATCH_SIZE, MAX_SEQ_LEN), dtype=np.int32)\n",
        "            input_lens_batch = np.zeros((BATCH_SIZE,), dtype=np.int32)\n",
        "            for i in range(m, n):\n",
        "                b,a = en_lang.encodeSentence2(train_pairs[i][0], MAX_SEQ_LEN)\n",
        "                input_batch[i-m,:] = a\n",
        "                input_lens_batch[i-m] = b\n",
        "\n",
        "            target_batch = np.zeros((BATCH_SIZE, MAX_SEQ_LEN), dtype=np.int32)\n",
        "            target_lens_batch = np.zeros((BATCH_SIZE,), dtype=np.int32)\n",
        "            for i in range(m, n):\n",
        "                b,a = hi_lang.encodeSentence2(train_pairs[i][1], MAX_SEQ_LEN)\n",
        "                target_batch[i-m,:] = a\n",
        "                target_lens_batch[i-m] = b\n",
        "\n",
        "            feed_dict={\n",
        "                input_ids: input_batch,\n",
        "                input_lens: input_lens_batch,\n",
        "                ph_target_ids: target_batch,\n",
        "                target_lens: target_lens_batch,\n",
        "                keep_prob: 0.8 \n",
        "            }\n",
        "            sess.run(train_op, feed_dict=feed_dict)\n",
        "            batch_loss += sess.run(cost, feed_dict=feed_dict)\n",
        "            pbar.set_description(f\"Epoch: {_e} >> Loss: {batch_loss/(bxi+1):2.2F}:\")\n",
        "            bxi += 1\n",
        "            if (1 + n//BATCH_SIZE) % 100 == 0:\n",
        "                small_test()"
      ]
    },
    {
      "cell_type": "markdown",
      "metadata": {
        "id": "aSfQna8tB3UE"
      },
      "source": [
        "### Let's see some real translation examples now!"
      ]
    },
    {
      "cell_type": "code",
      "execution_count": 48,
      "metadata": {
        "id": "mYMSjPW7B3UE"
      },
      "outputs": [],
      "source": [
        "def transliterate(s):\n",
        "    input_batch = np.zeros((BATCH_SIZE, MAX_SEQ_LEN), dtype=np.int32)\n",
        "    input_lens_batch = np.zeros((BATCH_SIZE,), dtype=np.int32)\n",
        "    b,a = en_lang.encodeSentence2(s, MAX_SEQ_LEN)\n",
        "    input_batch[0, :] = a\n",
        "    input_lens_batch[0] = b\n",
        "    \n",
        "    feed_dict={\n",
        "        input_ids: input_batch,\n",
        "        input_lens: input_lens_batch,\n",
        "        #target_ids: target_batch,\n",
        "        #target_lens: target_lens_batch,\n",
        "        keep_prob: 1.0\n",
        "    }\n",
        "    pred_batch = sess.run(infer_output[0].sample_id, feed_dict=feed_dict)\n",
        "    pred_ = pred_batch[0]\n",
        "    pred_s = hi_lang.decodeSentence(list(pred_))\n",
        "    # ref = valid_pairs[m+k][1]\n",
        "    return pred_s"
      ]
    },
    {
      "cell_type": "code",
      "execution_count": 49,
      "metadata": {
        "id": "Tmq-m3WpB3UE",
        "outputId": "49230e7e-3c1e-49ec-de31-cbf0d35c48e8",
        "colab": {
          "base_uri": "https://localhost:8080/",
          "height": 36
        }
      },
      "outputs": [
        {
          "output_type": "execute_result",
          "data": {
            "text/plain": [
              "'साया'"
            ],
            "application/vnd.google.colaboratory.intrinsic+json": {
              "type": "string"
            }
          },
          "metadata": {},
          "execution_count": 49
        }
      ],
      "source": [
        "transliterate(\"saya\")"
      ]
    },
    {
      "cell_type": "code",
      "execution_count": 50,
      "metadata": {
        "id": "Nbbyzw12B3UF",
        "outputId": "cf94884e-3fbb-4189-dfe2-7d3a1915a325",
        "colab": {
          "base_uri": "https://localhost:8080/",
          "height": 36
        }
      },
      "outputs": [
        {
          "output_type": "execute_result",
          "data": {
            "text/plain": [
              "'रामा'"
            ],
            "application/vnd.google.colaboratory.intrinsic+json": {
              "type": "string"
            }
          },
          "metadata": {},
          "execution_count": 50
        }
      ],
      "source": [
        "transliterate(\"raama\")"
      ]
    },
    {
      "cell_type": "code",
      "execution_count": 51,
      "metadata": {
        "id": "z2VVq5a7B3UF",
        "outputId": "f94a2dd8-dfdd-470d-c391-9b58e51fb027",
        "colab": {
          "base_uri": "https://localhost:8080/",
          "height": 36
        }
      },
      "outputs": [
        {
          "output_type": "execute_result",
          "data": {
            "text/plain": [
              "'शहर'"
            ],
            "application/vnd.google.colaboratory.intrinsic+json": {
              "type": "string"
            }
          },
          "metadata": {},
          "execution_count": 51
        }
      ],
      "source": [
        "transliterate(\"shahar\")"
      ]
    },
    {
      "cell_type": "code",
      "execution_count": 55,
      "metadata": {
        "id": "ovtjdBGiB3UG",
        "colab": {
          "base_uri": "https://localhost:8080/",
          "height": 36
        },
        "outputId": "69f1f3cd-581a-420c-e4c6-60169ec318cb"
      },
      "outputs": [
        {
          "output_type": "execute_result",
          "data": {
            "text/plain": [
              "'आकाश'"
            ],
            "application/vnd.google.colaboratory.intrinsic+json": {
              "type": "string"
            }
          },
          "metadata": {},
          "execution_count": 55
        }
      ],
      "source": [
        "transliterate(\"aakash\")"
      ]
    },
    {
      "cell_type": "code",
      "source": [
        "transliterate(\"raambaan\")"
      ],
      "metadata": {
        "colab": {
          "base_uri": "https://localhost:8080/",
          "height": 36
        },
        "id": "0oYErgMfq91c",
        "outputId": "72fbf978-2627-45df-dc86-98ce9fd65722"
      },
      "execution_count": 54,
      "outputs": [
        {
          "output_type": "execute_result",
          "data": {
            "text/plain": [
              "'रामबान'"
            ],
            "application/vnd.google.colaboratory.intrinsic+json": {
              "type": "string"
            }
          },
          "metadata": {},
          "execution_count": 54
        }
      ]
    },
    {
      "cell_type": "code",
      "source": [
        ""
      ],
      "metadata": {
        "id": "LWM6dApbrCND"
      },
      "execution_count": null,
      "outputs": []
    }
  ],
  "metadata": {
    "kernelspec": {
      "display_name": "Python 3",
      "name": "python3"
    },
    "language_info": {
      "name": "python"
    },
    "toc": {
      "base_numbering": 1,
      "nav_menu": {},
      "number_sections": true,
      "sideBar": true,
      "skip_h1_title": false,
      "title_cell": "Table of Contents",
      "title_sidebar": "Contents",
      "toc_cell": false,
      "toc_position": {
        "height": "calc(100% - 180px)",
        "left": "10px",
        "top": "150px",
        "width": "320px"
      },
      "toc_section_display": true,
      "toc_window_display": true
    },
    "colab": {
      "name": "EngtoHindi_Transliteration.ipynb",
      "provenance": []
    },
    "accelerator": "GPU",
    "gpuClass": "standard",
    "widgets": {
      "application/vnd.jupyter.widget-state+json": {
        "f7b085c828394122963a8a79e7b83f6f": {
          "model_module": "@jupyter-widgets/controls",
          "model_name": "HBoxModel",
          "model_module_version": "1.5.0",
          "state": {
            "_dom_classes": [],
            "_model_module": "@jupyter-widgets/controls",
            "_model_module_version": "1.5.0",
            "_model_name": "HBoxModel",
            "_view_count": null,
            "_view_module": "@jupyter-widgets/controls",
            "_view_module_version": "1.5.0",
            "_view_name": "HBoxView",
            "box_style": "",
            "children": [
              "IPY_MODEL_bceef2a3f8064ff99b41d8d21821a17f",
              "IPY_MODEL_36bb44eaa069452f8062fd8b19504c25",
              "IPY_MODEL_501d7e05d11941de8fd30da74b7bec29"
            ],
            "layout": "IPY_MODEL_f5a2a75f7f7e4649a18cedeb3c80e48a"
          }
        },
        "bceef2a3f8064ff99b41d8d21821a17f": {
          "model_module": "@jupyter-widgets/controls",
          "model_name": "HTMLModel",
          "model_module_version": "1.5.0",
          "state": {
            "_dom_classes": [],
            "_model_module": "@jupyter-widgets/controls",
            "_model_module_version": "1.5.0",
            "_model_name": "HTMLModel",
            "_view_count": null,
            "_view_module": "@jupyter-widgets/controls",
            "_view_module_version": "1.5.0",
            "_view_name": "HTMLView",
            "description": "",
            "description_tooltip": null,
            "layout": "IPY_MODEL_4b5fb2f8390e4037ac428a3e3dcbd4ee",
            "placeholder": "​",
            "style": "IPY_MODEL_60b25ae760ab4435969f314c61f861e6",
            "value": "Reading file:: 100%"
          }
        },
        "36bb44eaa069452f8062fd8b19504c25": {
          "model_module": "@jupyter-widgets/controls",
          "model_name": "FloatProgressModel",
          "model_module_version": "1.5.0",
          "state": {
            "_dom_classes": [],
            "_model_module": "@jupyter-widgets/controls",
            "_model_module_version": "1.5.0",
            "_model_name": "FloatProgressModel",
            "_view_count": null,
            "_view_module": "@jupyter-widgets/controls",
            "_view_module_version": "1.5.0",
            "_view_name": "ProgressView",
            "bar_style": "success",
            "description": "",
            "description_tooltip": null,
            "layout": "IPY_MODEL_f9b1457d5d0646fcb1ecdee220ddcf7e",
            "max": 30823,
            "min": 0,
            "orientation": "horizontal",
            "style": "IPY_MODEL_b2c0bb573c07449a9bb741958b6fab28",
            "value": 30823
          }
        },
        "501d7e05d11941de8fd30da74b7bec29": {
          "model_module": "@jupyter-widgets/controls",
          "model_name": "HTMLModel",
          "model_module_version": "1.5.0",
          "state": {
            "_dom_classes": [],
            "_model_module": "@jupyter-widgets/controls",
            "_model_module_version": "1.5.0",
            "_model_name": "HTMLModel",
            "_view_count": null,
            "_view_module": "@jupyter-widgets/controls",
            "_view_module_version": "1.5.0",
            "_view_name": "HTMLView",
            "description": "",
            "description_tooltip": null,
            "layout": "IPY_MODEL_257f794f011e45a5a3ba1b0a705d65e0",
            "placeholder": "​",
            "style": "IPY_MODEL_f1cfa8c6fefa4d77a27d8b56a33643bf",
            "value": " 30823/30823 [00:00&lt;00:00, 219369.81it/s]"
          }
        },
        "f5a2a75f7f7e4649a18cedeb3c80e48a": {
          "model_module": "@jupyter-widgets/base",
          "model_name": "LayoutModel",
          "model_module_version": "1.2.0",
          "state": {
            "_model_module": "@jupyter-widgets/base",
            "_model_module_version": "1.2.0",
            "_model_name": "LayoutModel",
            "_view_count": null,
            "_view_module": "@jupyter-widgets/base",
            "_view_module_version": "1.2.0",
            "_view_name": "LayoutView",
            "align_content": null,
            "align_items": null,
            "align_self": null,
            "border": null,
            "bottom": null,
            "display": null,
            "flex": null,
            "flex_flow": null,
            "grid_area": null,
            "grid_auto_columns": null,
            "grid_auto_flow": null,
            "grid_auto_rows": null,
            "grid_column": null,
            "grid_gap": null,
            "grid_row": null,
            "grid_template_areas": null,
            "grid_template_columns": null,
            "grid_template_rows": null,
            "height": null,
            "justify_content": null,
            "justify_items": null,
            "left": null,
            "margin": null,
            "max_height": null,
            "max_width": null,
            "min_height": null,
            "min_width": null,
            "object_fit": null,
            "object_position": null,
            "order": null,
            "overflow": null,
            "overflow_x": null,
            "overflow_y": null,
            "padding": null,
            "right": null,
            "top": null,
            "visibility": null,
            "width": null
          }
        },
        "4b5fb2f8390e4037ac428a3e3dcbd4ee": {
          "model_module": "@jupyter-widgets/base",
          "model_name": "LayoutModel",
          "model_module_version": "1.2.0",
          "state": {
            "_model_module": "@jupyter-widgets/base",
            "_model_module_version": "1.2.0",
            "_model_name": "LayoutModel",
            "_view_count": null,
            "_view_module": "@jupyter-widgets/base",
            "_view_module_version": "1.2.0",
            "_view_name": "LayoutView",
            "align_content": null,
            "align_items": null,
            "align_self": null,
            "border": null,
            "bottom": null,
            "display": null,
            "flex": null,
            "flex_flow": null,
            "grid_area": null,
            "grid_auto_columns": null,
            "grid_auto_flow": null,
            "grid_auto_rows": null,
            "grid_column": null,
            "grid_gap": null,
            "grid_row": null,
            "grid_template_areas": null,
            "grid_template_columns": null,
            "grid_template_rows": null,
            "height": null,
            "justify_content": null,
            "justify_items": null,
            "left": null,
            "margin": null,
            "max_height": null,
            "max_width": null,
            "min_height": null,
            "min_width": null,
            "object_fit": null,
            "object_position": null,
            "order": null,
            "overflow": null,
            "overflow_x": null,
            "overflow_y": null,
            "padding": null,
            "right": null,
            "top": null,
            "visibility": null,
            "width": null
          }
        },
        "60b25ae760ab4435969f314c61f861e6": {
          "model_module": "@jupyter-widgets/controls",
          "model_name": "DescriptionStyleModel",
          "model_module_version": "1.5.0",
          "state": {
            "_model_module": "@jupyter-widgets/controls",
            "_model_module_version": "1.5.0",
            "_model_name": "DescriptionStyleModel",
            "_view_count": null,
            "_view_module": "@jupyter-widgets/base",
            "_view_module_version": "1.2.0",
            "_view_name": "StyleView",
            "description_width": ""
          }
        },
        "f9b1457d5d0646fcb1ecdee220ddcf7e": {
          "model_module": "@jupyter-widgets/base",
          "model_name": "LayoutModel",
          "model_module_version": "1.2.0",
          "state": {
            "_model_module": "@jupyter-widgets/base",
            "_model_module_version": "1.2.0",
            "_model_name": "LayoutModel",
            "_view_count": null,
            "_view_module": "@jupyter-widgets/base",
            "_view_module_version": "1.2.0",
            "_view_name": "LayoutView",
            "align_content": null,
            "align_items": null,
            "align_self": null,
            "border": null,
            "bottom": null,
            "display": null,
            "flex": null,
            "flex_flow": null,
            "grid_area": null,
            "grid_auto_columns": null,
            "grid_auto_flow": null,
            "grid_auto_rows": null,
            "grid_column": null,
            "grid_gap": null,
            "grid_row": null,
            "grid_template_areas": null,
            "grid_template_columns": null,
            "grid_template_rows": null,
            "height": null,
            "justify_content": null,
            "justify_items": null,
            "left": null,
            "margin": null,
            "max_height": null,
            "max_width": null,
            "min_height": null,
            "min_width": null,
            "object_fit": null,
            "object_position": null,
            "order": null,
            "overflow": null,
            "overflow_x": null,
            "overflow_y": null,
            "padding": null,
            "right": null,
            "top": null,
            "visibility": null,
            "width": null
          }
        },
        "b2c0bb573c07449a9bb741958b6fab28": {
          "model_module": "@jupyter-widgets/controls",
          "model_name": "ProgressStyleModel",
          "model_module_version": "1.5.0",
          "state": {
            "_model_module": "@jupyter-widgets/controls",
            "_model_module_version": "1.5.0",
            "_model_name": "ProgressStyleModel",
            "_view_count": null,
            "_view_module": "@jupyter-widgets/base",
            "_view_module_version": "1.2.0",
            "_view_name": "StyleView",
            "bar_color": null,
            "description_width": ""
          }
        },
        "257f794f011e45a5a3ba1b0a705d65e0": {
          "model_module": "@jupyter-widgets/base",
          "model_name": "LayoutModel",
          "model_module_version": "1.2.0",
          "state": {
            "_model_module": "@jupyter-widgets/base",
            "_model_module_version": "1.2.0",
            "_model_name": "LayoutModel",
            "_view_count": null,
            "_view_module": "@jupyter-widgets/base",
            "_view_module_version": "1.2.0",
            "_view_name": "LayoutView",
            "align_content": null,
            "align_items": null,
            "align_self": null,
            "border": null,
            "bottom": null,
            "display": null,
            "flex": null,
            "flex_flow": null,
            "grid_area": null,
            "grid_auto_columns": null,
            "grid_auto_flow": null,
            "grid_auto_rows": null,
            "grid_column": null,
            "grid_gap": null,
            "grid_row": null,
            "grid_template_areas": null,
            "grid_template_columns": null,
            "grid_template_rows": null,
            "height": null,
            "justify_content": null,
            "justify_items": null,
            "left": null,
            "margin": null,
            "max_height": null,
            "max_width": null,
            "min_height": null,
            "min_width": null,
            "object_fit": null,
            "object_position": null,
            "order": null,
            "overflow": null,
            "overflow_x": null,
            "overflow_y": null,
            "padding": null,
            "right": null,
            "top": null,
            "visibility": null,
            "width": null
          }
        },
        "f1cfa8c6fefa4d77a27d8b56a33643bf": {
          "model_module": "@jupyter-widgets/controls",
          "model_name": "DescriptionStyleModel",
          "model_module_version": "1.5.0",
          "state": {
            "_model_module": "@jupyter-widgets/controls",
            "_model_module_version": "1.5.0",
            "_model_name": "DescriptionStyleModel",
            "_view_count": null,
            "_view_module": "@jupyter-widgets/base",
            "_view_module_version": "1.2.0",
            "_view_name": "StyleView",
            "description_width": ""
          }
        },
        "7c54737a3d3a4a8893d926d883562c4b": {
          "model_module": "@jupyter-widgets/controls",
          "model_name": "HBoxModel",
          "model_module_version": "1.5.0",
          "state": {
            "_dom_classes": [],
            "_model_module": "@jupyter-widgets/controls",
            "_model_module_version": "1.5.0",
            "_model_name": "HBoxModel",
            "_view_count": null,
            "_view_module": "@jupyter-widgets/controls",
            "_view_module_version": "1.5.0",
            "_view_name": "HBoxView",
            "box_style": "",
            "children": [
              "IPY_MODEL_402e2ff9762c4b9d8363b4b810a64840",
              "IPY_MODEL_d909692498644bcc9327b6e4ad101e36",
              "IPY_MODEL_8f5e94b1b04a4481b9d5c2af6e19e008"
            ],
            "layout": "IPY_MODEL_4cef16735b29461ba56a5381c075b800"
          }
        },
        "402e2ff9762c4b9d8363b4b810a64840": {
          "model_module": "@jupyter-widgets/controls",
          "model_name": "HTMLModel",
          "model_module_version": "1.5.0",
          "state": {
            "_dom_classes": [],
            "_model_module": "@jupyter-widgets/controls",
            "_model_module_version": "1.5.0",
            "_model_name": "HTMLModel",
            "_view_count": null,
            "_view_module": "@jupyter-widgets/controls",
            "_view_module_version": "1.5.0",
            "_view_name": "HTMLView",
            "description": "",
            "description_tooltip": null,
            "layout": "IPY_MODEL_b90549ec83514e85bf533640133c477b",
            "placeholder": "​",
            "style": "IPY_MODEL_5ce78b26337b4a14a14b16cea096dbf0",
            "value": "Processing inputs:: 100%"
          }
        },
        "d909692498644bcc9327b6e4ad101e36": {
          "model_module": "@jupyter-widgets/controls",
          "model_name": "FloatProgressModel",
          "model_module_version": "1.5.0",
          "state": {
            "_dom_classes": [],
            "_model_module": "@jupyter-widgets/controls",
            "_model_module_version": "1.5.0",
            "_model_name": "FloatProgressModel",
            "_view_count": null,
            "_view_module": "@jupyter-widgets/controls",
            "_view_module_version": "1.5.0",
            "_view_name": "ProgressView",
            "bar_style": "success",
            "description": "",
            "description_tooltip": null,
            "layout": "IPY_MODEL_c292ae43300f470ca29fde249006eb9a",
            "max": 30823,
            "min": 0,
            "orientation": "horizontal",
            "style": "IPY_MODEL_10d7051b72f140b4acb4b9a60efe707f",
            "value": 30823
          }
        },
        "8f5e94b1b04a4481b9d5c2af6e19e008": {
          "model_module": "@jupyter-widgets/controls",
          "model_name": "HTMLModel",
          "model_module_version": "1.5.0",
          "state": {
            "_dom_classes": [],
            "_model_module": "@jupyter-widgets/controls",
            "_model_module_version": "1.5.0",
            "_model_name": "HTMLModel",
            "_view_count": null,
            "_view_module": "@jupyter-widgets/controls",
            "_view_module_version": "1.5.0",
            "_view_name": "HTMLView",
            "description": "",
            "description_tooltip": null,
            "layout": "IPY_MODEL_cb0fbd1d272f4dbbb8f92807c6bb1734",
            "placeholder": "​",
            "style": "IPY_MODEL_c565db0f609645c59c99fb6d0cdf47ed",
            "value": " 30823/30823 [00:00&lt;00:00, 163387.69it/s]"
          }
        },
        "4cef16735b29461ba56a5381c075b800": {
          "model_module": "@jupyter-widgets/base",
          "model_name": "LayoutModel",
          "model_module_version": "1.2.0",
          "state": {
            "_model_module": "@jupyter-widgets/base",
            "_model_module_version": "1.2.0",
            "_model_name": "LayoutModel",
            "_view_count": null,
            "_view_module": "@jupyter-widgets/base",
            "_view_module_version": "1.2.0",
            "_view_name": "LayoutView",
            "align_content": null,
            "align_items": null,
            "align_self": null,
            "border": null,
            "bottom": null,
            "display": null,
            "flex": null,
            "flex_flow": null,
            "grid_area": null,
            "grid_auto_columns": null,
            "grid_auto_flow": null,
            "grid_auto_rows": null,
            "grid_column": null,
            "grid_gap": null,
            "grid_row": null,
            "grid_template_areas": null,
            "grid_template_columns": null,
            "grid_template_rows": null,
            "height": null,
            "justify_content": null,
            "justify_items": null,
            "left": null,
            "margin": null,
            "max_height": null,
            "max_width": null,
            "min_height": null,
            "min_width": null,
            "object_fit": null,
            "object_position": null,
            "order": null,
            "overflow": null,
            "overflow_x": null,
            "overflow_y": null,
            "padding": null,
            "right": null,
            "top": null,
            "visibility": null,
            "width": null
          }
        },
        "b90549ec83514e85bf533640133c477b": {
          "model_module": "@jupyter-widgets/base",
          "model_name": "LayoutModel",
          "model_module_version": "1.2.0",
          "state": {
            "_model_module": "@jupyter-widgets/base",
            "_model_module_version": "1.2.0",
            "_model_name": "LayoutModel",
            "_view_count": null,
            "_view_module": "@jupyter-widgets/base",
            "_view_module_version": "1.2.0",
            "_view_name": "LayoutView",
            "align_content": null,
            "align_items": null,
            "align_self": null,
            "border": null,
            "bottom": null,
            "display": null,
            "flex": null,
            "flex_flow": null,
            "grid_area": null,
            "grid_auto_columns": null,
            "grid_auto_flow": null,
            "grid_auto_rows": null,
            "grid_column": null,
            "grid_gap": null,
            "grid_row": null,
            "grid_template_areas": null,
            "grid_template_columns": null,
            "grid_template_rows": null,
            "height": null,
            "justify_content": null,
            "justify_items": null,
            "left": null,
            "margin": null,
            "max_height": null,
            "max_width": null,
            "min_height": null,
            "min_width": null,
            "object_fit": null,
            "object_position": null,
            "order": null,
            "overflow": null,
            "overflow_x": null,
            "overflow_y": null,
            "padding": null,
            "right": null,
            "top": null,
            "visibility": null,
            "width": null
          }
        },
        "5ce78b26337b4a14a14b16cea096dbf0": {
          "model_module": "@jupyter-widgets/controls",
          "model_name": "DescriptionStyleModel",
          "model_module_version": "1.5.0",
          "state": {
            "_model_module": "@jupyter-widgets/controls",
            "_model_module_version": "1.5.0",
            "_model_name": "DescriptionStyleModel",
            "_view_count": null,
            "_view_module": "@jupyter-widgets/base",
            "_view_module_version": "1.2.0",
            "_view_name": "StyleView",
            "description_width": ""
          }
        },
        "c292ae43300f470ca29fde249006eb9a": {
          "model_module": "@jupyter-widgets/base",
          "model_name": "LayoutModel",
          "model_module_version": "1.2.0",
          "state": {
            "_model_module": "@jupyter-widgets/base",
            "_model_module_version": "1.2.0",
            "_model_name": "LayoutModel",
            "_view_count": null,
            "_view_module": "@jupyter-widgets/base",
            "_view_module_version": "1.2.0",
            "_view_name": "LayoutView",
            "align_content": null,
            "align_items": null,
            "align_self": null,
            "border": null,
            "bottom": null,
            "display": null,
            "flex": null,
            "flex_flow": null,
            "grid_area": null,
            "grid_auto_columns": null,
            "grid_auto_flow": null,
            "grid_auto_rows": null,
            "grid_column": null,
            "grid_gap": null,
            "grid_row": null,
            "grid_template_areas": null,
            "grid_template_columns": null,
            "grid_template_rows": null,
            "height": null,
            "justify_content": null,
            "justify_items": null,
            "left": null,
            "margin": null,
            "max_height": null,
            "max_width": null,
            "min_height": null,
            "min_width": null,
            "object_fit": null,
            "object_position": null,
            "order": null,
            "overflow": null,
            "overflow_x": null,
            "overflow_y": null,
            "padding": null,
            "right": null,
            "top": null,
            "visibility": null,
            "width": null
          }
        },
        "10d7051b72f140b4acb4b9a60efe707f": {
          "model_module": "@jupyter-widgets/controls",
          "model_name": "ProgressStyleModel",
          "model_module_version": "1.5.0",
          "state": {
            "_model_module": "@jupyter-widgets/controls",
            "_model_module_version": "1.5.0",
            "_model_name": "ProgressStyleModel",
            "_view_count": null,
            "_view_module": "@jupyter-widgets/base",
            "_view_module_version": "1.2.0",
            "_view_name": "StyleView",
            "bar_color": null,
            "description_width": ""
          }
        },
        "cb0fbd1d272f4dbbb8f92807c6bb1734": {
          "model_module": "@jupyter-widgets/base",
          "model_name": "LayoutModel",
          "model_module_version": "1.2.0",
          "state": {
            "_model_module": "@jupyter-widgets/base",
            "_model_module_version": "1.2.0",
            "_model_name": "LayoutModel",
            "_view_count": null,
            "_view_module": "@jupyter-widgets/base",
            "_view_module_version": "1.2.0",
            "_view_name": "LayoutView",
            "align_content": null,
            "align_items": null,
            "align_self": null,
            "border": null,
            "bottom": null,
            "display": null,
            "flex": null,
            "flex_flow": null,
            "grid_area": null,
            "grid_auto_columns": null,
            "grid_auto_flow": null,
            "grid_auto_rows": null,
            "grid_column": null,
            "grid_gap": null,
            "grid_row": null,
            "grid_template_areas": null,
            "grid_template_columns": null,
            "grid_template_rows": null,
            "height": null,
            "justify_content": null,
            "justify_items": null,
            "left": null,
            "margin": null,
            "max_height": null,
            "max_width": null,
            "min_height": null,
            "min_width": null,
            "object_fit": null,
            "object_position": null,
            "order": null,
            "overflow": null,
            "overflow_x": null,
            "overflow_y": null,
            "padding": null,
            "right": null,
            "top": null,
            "visibility": null,
            "width": null
          }
        },
        "c565db0f609645c59c99fb6d0cdf47ed": {
          "model_module": "@jupyter-widgets/controls",
          "model_name": "DescriptionStyleModel",
          "model_module_version": "1.5.0",
          "state": {
            "_model_module": "@jupyter-widgets/controls",
            "_model_module_version": "1.5.0",
            "_model_name": "DescriptionStyleModel",
            "_view_count": null,
            "_view_module": "@jupyter-widgets/base",
            "_view_module_version": "1.2.0",
            "_view_name": "StyleView",
            "description_width": ""
          }
        },
        "4365c74d564a4057b4df718c433140c1": {
          "model_module": "@jupyter-widgets/controls",
          "model_name": "HBoxModel",
          "model_module_version": "1.5.0",
          "state": {
            "_dom_classes": [],
            "_model_module": "@jupyter-widgets/controls",
            "_model_module_version": "1.5.0",
            "_model_name": "HBoxModel",
            "_view_count": null,
            "_view_module": "@jupyter-widgets/controls",
            "_view_module_version": "1.5.0",
            "_view_name": "HBoxView",
            "box_style": "",
            "children": [
              "IPY_MODEL_6c4b2c49fe0b46b7a886ba5337182fd8",
              "IPY_MODEL_3a833c72273d4cd982f63ced8e4371f7",
              "IPY_MODEL_68b54133b3ae4168968bb7cbca210fcf"
            ],
            "layout": "IPY_MODEL_224512c3e75247ad8ec70f61461140e8"
          }
        },
        "6c4b2c49fe0b46b7a886ba5337182fd8": {
          "model_module": "@jupyter-widgets/controls",
          "model_name": "HTMLModel",
          "model_module_version": "1.5.0",
          "state": {
            "_dom_classes": [],
            "_model_module": "@jupyter-widgets/controls",
            "_model_module_version": "1.5.0",
            "_model_name": "HTMLModel",
            "_view_count": null,
            "_view_module": "@jupyter-widgets/controls",
            "_view_module_version": "1.5.0",
            "_view_name": "HTMLView",
            "description": "",
            "description_tooltip": null,
            "layout": "IPY_MODEL_c76167d4d96b4e9abc708a07a0a1c361",
            "placeholder": "​",
            "style": "IPY_MODEL_e985b58242cb4fdb98e57baeac015d22",
            "value": "Processing inputs:: 100%"
          }
        },
        "3a833c72273d4cd982f63ced8e4371f7": {
          "model_module": "@jupyter-widgets/controls",
          "model_name": "FloatProgressModel",
          "model_module_version": "1.5.0",
          "state": {
            "_dom_classes": [],
            "_model_module": "@jupyter-widgets/controls",
            "_model_module_version": "1.5.0",
            "_model_name": "FloatProgressModel",
            "_view_count": null,
            "_view_module": "@jupyter-widgets/controls",
            "_view_module_version": "1.5.0",
            "_view_name": "ProgressView",
            "bar_style": "success",
            "description": "",
            "description_tooltip": null,
            "layout": "IPY_MODEL_c00562cfae9b47a5b37451d55d71a72a",
            "max": 30823,
            "min": 0,
            "orientation": "horizontal",
            "style": "IPY_MODEL_7ffee26f9fb34581907efb19b0bd1ccb",
            "value": 30823
          }
        },
        "68b54133b3ae4168968bb7cbca210fcf": {
          "model_module": "@jupyter-widgets/controls",
          "model_name": "HTMLModel",
          "model_module_version": "1.5.0",
          "state": {
            "_dom_classes": [],
            "_model_module": "@jupyter-widgets/controls",
            "_model_module_version": "1.5.0",
            "_model_name": "HTMLModel",
            "_view_count": null,
            "_view_module": "@jupyter-widgets/controls",
            "_view_module_version": "1.5.0",
            "_view_name": "HTMLView",
            "description": "",
            "description_tooltip": null,
            "layout": "IPY_MODEL_c0f7bf8c5e8948d694f54647722ceacf",
            "placeholder": "​",
            "style": "IPY_MODEL_8b610bed6ecb4967a20a1161828c3dcb",
            "value": " 30823/30823 [00:00&lt;00:00, 201745.28it/s]"
          }
        },
        "224512c3e75247ad8ec70f61461140e8": {
          "model_module": "@jupyter-widgets/base",
          "model_name": "LayoutModel",
          "model_module_version": "1.2.0",
          "state": {
            "_model_module": "@jupyter-widgets/base",
            "_model_module_version": "1.2.0",
            "_model_name": "LayoutModel",
            "_view_count": null,
            "_view_module": "@jupyter-widgets/base",
            "_view_module_version": "1.2.0",
            "_view_name": "LayoutView",
            "align_content": null,
            "align_items": null,
            "align_self": null,
            "border": null,
            "bottom": null,
            "display": null,
            "flex": null,
            "flex_flow": null,
            "grid_area": null,
            "grid_auto_columns": null,
            "grid_auto_flow": null,
            "grid_auto_rows": null,
            "grid_column": null,
            "grid_gap": null,
            "grid_row": null,
            "grid_template_areas": null,
            "grid_template_columns": null,
            "grid_template_rows": null,
            "height": null,
            "justify_content": null,
            "justify_items": null,
            "left": null,
            "margin": null,
            "max_height": null,
            "max_width": null,
            "min_height": null,
            "min_width": null,
            "object_fit": null,
            "object_position": null,
            "order": null,
            "overflow": null,
            "overflow_x": null,
            "overflow_y": null,
            "padding": null,
            "right": null,
            "top": null,
            "visibility": null,
            "width": null
          }
        },
        "c76167d4d96b4e9abc708a07a0a1c361": {
          "model_module": "@jupyter-widgets/base",
          "model_name": "LayoutModel",
          "model_module_version": "1.2.0",
          "state": {
            "_model_module": "@jupyter-widgets/base",
            "_model_module_version": "1.2.0",
            "_model_name": "LayoutModel",
            "_view_count": null,
            "_view_module": "@jupyter-widgets/base",
            "_view_module_version": "1.2.0",
            "_view_name": "LayoutView",
            "align_content": null,
            "align_items": null,
            "align_self": null,
            "border": null,
            "bottom": null,
            "display": null,
            "flex": null,
            "flex_flow": null,
            "grid_area": null,
            "grid_auto_columns": null,
            "grid_auto_flow": null,
            "grid_auto_rows": null,
            "grid_column": null,
            "grid_gap": null,
            "grid_row": null,
            "grid_template_areas": null,
            "grid_template_columns": null,
            "grid_template_rows": null,
            "height": null,
            "justify_content": null,
            "justify_items": null,
            "left": null,
            "margin": null,
            "max_height": null,
            "max_width": null,
            "min_height": null,
            "min_width": null,
            "object_fit": null,
            "object_position": null,
            "order": null,
            "overflow": null,
            "overflow_x": null,
            "overflow_y": null,
            "padding": null,
            "right": null,
            "top": null,
            "visibility": null,
            "width": null
          }
        },
        "e985b58242cb4fdb98e57baeac015d22": {
          "model_module": "@jupyter-widgets/controls",
          "model_name": "DescriptionStyleModel",
          "model_module_version": "1.5.0",
          "state": {
            "_model_module": "@jupyter-widgets/controls",
            "_model_module_version": "1.5.0",
            "_model_name": "DescriptionStyleModel",
            "_view_count": null,
            "_view_module": "@jupyter-widgets/base",
            "_view_module_version": "1.2.0",
            "_view_name": "StyleView",
            "description_width": ""
          }
        },
        "c00562cfae9b47a5b37451d55d71a72a": {
          "model_module": "@jupyter-widgets/base",
          "model_name": "LayoutModel",
          "model_module_version": "1.2.0",
          "state": {
            "_model_module": "@jupyter-widgets/base",
            "_model_module_version": "1.2.0",
            "_model_name": "LayoutModel",
            "_view_count": null,
            "_view_module": "@jupyter-widgets/base",
            "_view_module_version": "1.2.0",
            "_view_name": "LayoutView",
            "align_content": null,
            "align_items": null,
            "align_self": null,
            "border": null,
            "bottom": null,
            "display": null,
            "flex": null,
            "flex_flow": null,
            "grid_area": null,
            "grid_auto_columns": null,
            "grid_auto_flow": null,
            "grid_auto_rows": null,
            "grid_column": null,
            "grid_gap": null,
            "grid_row": null,
            "grid_template_areas": null,
            "grid_template_columns": null,
            "grid_template_rows": null,
            "height": null,
            "justify_content": null,
            "justify_items": null,
            "left": null,
            "margin": null,
            "max_height": null,
            "max_width": null,
            "min_height": null,
            "min_width": null,
            "object_fit": null,
            "object_position": null,
            "order": null,
            "overflow": null,
            "overflow_x": null,
            "overflow_y": null,
            "padding": null,
            "right": null,
            "top": null,
            "visibility": null,
            "width": null
          }
        },
        "7ffee26f9fb34581907efb19b0bd1ccb": {
          "model_module": "@jupyter-widgets/controls",
          "model_name": "ProgressStyleModel",
          "model_module_version": "1.5.0",
          "state": {
            "_model_module": "@jupyter-widgets/controls",
            "_model_module_version": "1.5.0",
            "_model_name": "ProgressStyleModel",
            "_view_count": null,
            "_view_module": "@jupyter-widgets/base",
            "_view_module_version": "1.2.0",
            "_view_name": "StyleView",
            "bar_color": null,
            "description_width": ""
          }
        },
        "c0f7bf8c5e8948d694f54647722ceacf": {
          "model_module": "@jupyter-widgets/base",
          "model_name": "LayoutModel",
          "model_module_version": "1.2.0",
          "state": {
            "_model_module": "@jupyter-widgets/base",
            "_model_module_version": "1.2.0",
            "_model_name": "LayoutModel",
            "_view_count": null,
            "_view_module": "@jupyter-widgets/base",
            "_view_module_version": "1.2.0",
            "_view_name": "LayoutView",
            "align_content": null,
            "align_items": null,
            "align_self": null,
            "border": null,
            "bottom": null,
            "display": null,
            "flex": null,
            "flex_flow": null,
            "grid_area": null,
            "grid_auto_columns": null,
            "grid_auto_flow": null,
            "grid_auto_rows": null,
            "grid_column": null,
            "grid_gap": null,
            "grid_row": null,
            "grid_template_areas": null,
            "grid_template_columns": null,
            "grid_template_rows": null,
            "height": null,
            "justify_content": null,
            "justify_items": null,
            "left": null,
            "margin": null,
            "max_height": null,
            "max_width": null,
            "min_height": null,
            "min_width": null,
            "object_fit": null,
            "object_position": null,
            "order": null,
            "overflow": null,
            "overflow_x": null,
            "overflow_y": null,
            "padding": null,
            "right": null,
            "top": null,
            "visibility": null,
            "width": null
          }
        },
        "8b610bed6ecb4967a20a1161828c3dcb": {
          "model_module": "@jupyter-widgets/controls",
          "model_name": "DescriptionStyleModel",
          "model_module_version": "1.5.0",
          "state": {
            "_model_module": "@jupyter-widgets/controls",
            "_model_module_version": "1.5.0",
            "_model_name": "DescriptionStyleModel",
            "_view_count": null,
            "_view_module": "@jupyter-widgets/base",
            "_view_module_version": "1.2.0",
            "_view_name": "StyleView",
            "description_width": ""
          }
        }
      }
    }
  },
  "nbformat": 4,
  "nbformat_minor": 0
}